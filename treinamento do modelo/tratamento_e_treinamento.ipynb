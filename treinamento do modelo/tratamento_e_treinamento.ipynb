{
  "cells": [
    {
      "cell_type": "code",
      "execution_count": null,
      "metadata": {
        "colab": {
          "base_uri": "https://localhost:8080/"
        },
        "id": "HfnOJQUWP34B",
        "outputId": "4d1b4dc2-3761-4725-dc08-ee4623a353cb"
      },
      "outputs": [
        {
          "output_type": "stream",
          "name": "stdout",
          "text": [
            "Mounted at /content/drive\n"
          ]
        }
      ],
      "source": [
        "import numpy as np\n",
        "import pandas as pd\n",
        "\n",
        "from google.colab import drive\n",
        "drive.mount('/content/drive')"
      ]
    },
    {
      "cell_type": "code",
      "execution_count": null,
      "metadata": {
        "colab": {
          "base_uri": "https://localhost:8080/"
        },
        "id": "-mXFmv4xQb7q",
        "outputId": "3e7d1043-11e2-4dc0-ed55-71d28b88ba4d"
      },
      "outputs": [
        {
          "output_type": "execute_result",
          "data": {
            "text/plain": [
              "Index(['_index', '_type', '_score', '_source'], dtype='object')"
            ]
          },
          "metadata": {},
          "execution_count": 2
        }
      ],
      "source": [
        "df = pd.read_json(\"/content/drive/MyDrive/Prof. Iury Bessa/Matheus Figueiredo /Artigo SBAI 2025/dados_maliciosos.json\")\n",
        "\n",
        "df.keys()"
      ]
    },
    {
      "cell_type": "code",
      "execution_count": null,
      "metadata": {
        "id": "ZWVmoMO6hz9z",
        "colab": {
          "base_uri": "https://localhost:8080/"
        },
        "outputId": "66b9e7f4-04fb-4baa-fcf1-769af00e4b5e"
      },
      "outputs": [
        {
          "output_type": "execute_result",
          "data": {
            "text/plain": [
              "Index(['frame.time_relative', 'frame.time_epoch', 'frame.time', 'ip.src',\n",
              "       'ip.dst', 'tcp.stream', 'tcp.seq', 'tcp.srcport', 'tcp.dstport',\n",
              "       'tcp.len', 'tcp.flags', 'tcp.flags.ack', 'tcp.flags.syn',\n",
              "       'tcp.flags.fin', 'tcp.flags.urg', 'tcp.time_delta',\n",
              "       'tcp.window_size_value', 'mqtt.msgtype', 'mqtt.hdrflags', 'mqtt.len',\n",
              "       'mqtt.msgid', 'mqtt.dupflag', 'mqtt.msg', 'mqtt.qos'],\n",
              "      dtype='object')"
            ]
          },
          "metadata": {},
          "execution_count": 2
        }
      ],
      "source": [
        "# carregar o JSON\n",
        "\n",
        "import json\n",
        "\n",
        "with open(\"/content/drive/MyDrive/Prof. Iury Bessa/Matheus Figueiredo /Artigo SBAI 2025/dados_maliciosos.json\", \"r\") as f:\n",
        "    data1 = json.load(f)\n",
        "\n",
        "# extrair os dados da chave `_source` -> `layers`\n",
        "packets = [packet[\"_source\"][\"layers\"] for packet in data1]\n",
        "\n",
        "# transformar em DataFrame\n",
        "df = pd.DataFrame(packets)\n",
        "df.keys()"
      ]
    },
    {
      "cell_type": "code",
      "source": [
        "df.shape"
      ],
      "metadata": {
        "colab": {
          "base_uri": "https://localhost:8080/"
        },
        "id": "IKae4A2HJPAb",
        "outputId": "20513e73-c4ae-4f51-d287-4502d3347ac9"
      },
      "execution_count": null,
      "outputs": [
        {
          "output_type": "execute_result",
          "data": {
            "text/plain": [
              "(121425, 24)"
            ]
          },
          "metadata": {},
          "execution_count": 6
        }
      ]
    },
    {
      "cell_type": "code",
      "source": [
        "print(df['mqtt.dupflag'].value_counts())"
      ],
      "metadata": {
        "colab": {
          "base_uri": "https://localhost:8080/"
        },
        "id": "7hrhuXUhRgue",
        "outputId": "b05380cc-62cd-4d5c-8f50-92d931542bd3"
      },
      "execution_count": null,
      "outputs": [
        {
          "output_type": "stream",
          "name": "stdout",
          "text": [
            "mqtt.dupflag\n",
            "[0, 0, 0, 0, 0, 0, 0, 0, 0]                               2195\n",
            "[0]                                                       1225\n",
            "[0, 0, 0, 0, 0, 0, 0, 0]                                  1115\n",
            "[0, 0, 0, 0, 0, 0, 0, 0, 0, 0, 0, 0, 0, 0, 0, 0, 0, 0]     950\n",
            "[0, 0, 0, 0, 0, 0, 0, 0, 0, 0, 0, 0, 0, 0, 0, 0, 0]        480\n",
            "                                                          ... \n",
            "[1, 0, 0, 1, 0, 0, 0, 0, 0, 0, 0, 0]                         1\n",
            "[0, 0, 0, 0, 0, 1, 0, 0, 0, 0, 0, 1]                         1\n",
            "[0, 0, 0, 1, 0, 0, 0, 1, 0]                                  1\n",
            "[1, 0, 1, 1, 0, 0, 0, 0, 0, 1, 0, 0]                         1\n",
            "[0, 0, 1, 0, 0, 1, 0, 0, 1, 0, 0, 0]                         1\n",
            "Name: count, Length: 209, dtype: int64\n"
          ]
        }
      ]
    },
    {
      "cell_type": "markdown",
      "metadata": {
        "id": "DZvf4yS-x4oQ"
      },
      "source": [
        "# **Tratamento inicial**"
      ]
    },
    {
      "cell_type": "code",
      "execution_count": null,
      "metadata": {
        "colab": {
          "base_uri": "https://localhost:8080/",
          "height": 463
        },
        "id": "DS-xcRLTj7vm",
        "outputId": "7a16c9ae-3024-4cbd-8774-acda95d799a8"
      },
      "outputs": [
        {
          "output_type": "stream",
          "name": "stderr",
          "text": [
            "<ipython-input-3-f95382fd2318>:11: FutureWarning: DataFrame.applymap has been deprecated. Use DataFrame.map instead.\n",
            "  df = df.applymap(lambda x: x[0] if isinstance(x, list) else x)\n"
          ]
        },
        {
          "output_type": "execute_result",
          "data": {
            "text/plain": [
              "  frame.time_relative      frame.time_epoch  \\\n",
              "0         0.000000000  1742315412.047833439   \n",
              "1         0.000013592  1742315412.047847031   \n",
              "2         0.162082507  1742315412.209915946   \n",
              "3         0.162083198  1742315412.209916637   \n",
              "4         0.742559745  1742315412.790393184   \n",
              "\n",
              "                            frame.time       ip.src   ip.dst tcp.stream  \\\n",
              "0  Mar 18, 2025 12:30:12.047833439 -04  10.42.0.201  8.8.8.8        NaN   \n",
              "1  Mar 18, 2025 12:30:12.047847031 -04  10.42.0.201  8.8.8.8        NaN   \n",
              "2  Mar 18, 2025 12:30:12.209915946 -04  10.42.0.201  8.8.8.8        NaN   \n",
              "3  Mar 18, 2025 12:30:12.209916637 -04  10.42.0.201  8.8.8.8        NaN   \n",
              "4  Mar 18, 2025 12:30:12.790393184 -04  10.42.0.201  8.8.8.8        NaN   \n",
              "\n",
              "  tcp.seq tcp.srcport tcp.dstport tcp.len  ... tcp.flags.urg tcp.time_delta  \\\n",
              "0     NaN         NaN         NaN     NaN  ...           NaN            NaN   \n",
              "1     NaN         NaN         NaN     NaN  ...           NaN            NaN   \n",
              "2     NaN         NaN         NaN     NaN  ...           NaN            NaN   \n",
              "3     NaN         NaN         NaN     NaN  ...           NaN            NaN   \n",
              "4     NaN         NaN         NaN     NaN  ...           NaN            NaN   \n",
              "\n",
              "  tcp.window_size_value mqtt.msgtype mqtt.hdrflags mqtt.len mqtt.msgid  \\\n",
              "0                   NaN          NaN           NaN      NaN        NaN   \n",
              "1                   NaN          NaN           NaN      NaN        NaN   \n",
              "2                   NaN          NaN           NaN      NaN        NaN   \n",
              "3                   NaN          NaN           NaN      NaN        NaN   \n",
              "4                   NaN          NaN           NaN      NaN        NaN   \n",
              "\n",
              "  mqtt.dupflag mqtt.msg mqtt.qos  \n",
              "0          NaN      NaN      NaN  \n",
              "1          NaN      NaN      NaN  \n",
              "2          NaN      NaN      NaN  \n",
              "3          NaN      NaN      NaN  \n",
              "4          NaN      NaN      NaN  \n",
              "\n",
              "[5 rows x 24 columns]"
            ],
            "text/html": [
              "\n",
              "  <div id=\"df-ee7fa6f0-463a-4e2c-bed5-dae414ebea92\" class=\"colab-df-container\">\n",
              "    <div>\n",
              "<style scoped>\n",
              "    .dataframe tbody tr th:only-of-type {\n",
              "        vertical-align: middle;\n",
              "    }\n",
              "\n",
              "    .dataframe tbody tr th {\n",
              "        vertical-align: top;\n",
              "    }\n",
              "\n",
              "    .dataframe thead th {\n",
              "        text-align: right;\n",
              "    }\n",
              "</style>\n",
              "<table border=\"1\" class=\"dataframe\">\n",
              "  <thead>\n",
              "    <tr style=\"text-align: right;\">\n",
              "      <th></th>\n",
              "      <th>frame.time_relative</th>\n",
              "      <th>frame.time_epoch</th>\n",
              "      <th>frame.time</th>\n",
              "      <th>ip.src</th>\n",
              "      <th>ip.dst</th>\n",
              "      <th>tcp.stream</th>\n",
              "      <th>tcp.seq</th>\n",
              "      <th>tcp.srcport</th>\n",
              "      <th>tcp.dstport</th>\n",
              "      <th>tcp.len</th>\n",
              "      <th>...</th>\n",
              "      <th>tcp.flags.urg</th>\n",
              "      <th>tcp.time_delta</th>\n",
              "      <th>tcp.window_size_value</th>\n",
              "      <th>mqtt.msgtype</th>\n",
              "      <th>mqtt.hdrflags</th>\n",
              "      <th>mqtt.len</th>\n",
              "      <th>mqtt.msgid</th>\n",
              "      <th>mqtt.dupflag</th>\n",
              "      <th>mqtt.msg</th>\n",
              "      <th>mqtt.qos</th>\n",
              "    </tr>\n",
              "  </thead>\n",
              "  <tbody>\n",
              "    <tr>\n",
              "      <th>0</th>\n",
              "      <td>0.000000000</td>\n",
              "      <td>1742315412.047833439</td>\n",
              "      <td>Mar 18, 2025 12:30:12.047833439 -04</td>\n",
              "      <td>10.42.0.201</td>\n",
              "      <td>8.8.8.8</td>\n",
              "      <td>NaN</td>\n",
              "      <td>NaN</td>\n",
              "      <td>NaN</td>\n",
              "      <td>NaN</td>\n",
              "      <td>NaN</td>\n",
              "      <td>...</td>\n",
              "      <td>NaN</td>\n",
              "      <td>NaN</td>\n",
              "      <td>NaN</td>\n",
              "      <td>NaN</td>\n",
              "      <td>NaN</td>\n",
              "      <td>NaN</td>\n",
              "      <td>NaN</td>\n",
              "      <td>NaN</td>\n",
              "      <td>NaN</td>\n",
              "      <td>NaN</td>\n",
              "    </tr>\n",
              "    <tr>\n",
              "      <th>1</th>\n",
              "      <td>0.000013592</td>\n",
              "      <td>1742315412.047847031</td>\n",
              "      <td>Mar 18, 2025 12:30:12.047847031 -04</td>\n",
              "      <td>10.42.0.201</td>\n",
              "      <td>8.8.8.8</td>\n",
              "      <td>NaN</td>\n",
              "      <td>NaN</td>\n",
              "      <td>NaN</td>\n",
              "      <td>NaN</td>\n",
              "      <td>NaN</td>\n",
              "      <td>...</td>\n",
              "      <td>NaN</td>\n",
              "      <td>NaN</td>\n",
              "      <td>NaN</td>\n",
              "      <td>NaN</td>\n",
              "      <td>NaN</td>\n",
              "      <td>NaN</td>\n",
              "      <td>NaN</td>\n",
              "      <td>NaN</td>\n",
              "      <td>NaN</td>\n",
              "      <td>NaN</td>\n",
              "    </tr>\n",
              "    <tr>\n",
              "      <th>2</th>\n",
              "      <td>0.162082507</td>\n",
              "      <td>1742315412.209915946</td>\n",
              "      <td>Mar 18, 2025 12:30:12.209915946 -04</td>\n",
              "      <td>10.42.0.201</td>\n",
              "      <td>8.8.8.8</td>\n",
              "      <td>NaN</td>\n",
              "      <td>NaN</td>\n",
              "      <td>NaN</td>\n",
              "      <td>NaN</td>\n",
              "      <td>NaN</td>\n",
              "      <td>...</td>\n",
              "      <td>NaN</td>\n",
              "      <td>NaN</td>\n",
              "      <td>NaN</td>\n",
              "      <td>NaN</td>\n",
              "      <td>NaN</td>\n",
              "      <td>NaN</td>\n",
              "      <td>NaN</td>\n",
              "      <td>NaN</td>\n",
              "      <td>NaN</td>\n",
              "      <td>NaN</td>\n",
              "    </tr>\n",
              "    <tr>\n",
              "      <th>3</th>\n",
              "      <td>0.162083198</td>\n",
              "      <td>1742315412.209916637</td>\n",
              "      <td>Mar 18, 2025 12:30:12.209916637 -04</td>\n",
              "      <td>10.42.0.201</td>\n",
              "      <td>8.8.8.8</td>\n",
              "      <td>NaN</td>\n",
              "      <td>NaN</td>\n",
              "      <td>NaN</td>\n",
              "      <td>NaN</td>\n",
              "      <td>NaN</td>\n",
              "      <td>...</td>\n",
              "      <td>NaN</td>\n",
              "      <td>NaN</td>\n",
              "      <td>NaN</td>\n",
              "      <td>NaN</td>\n",
              "      <td>NaN</td>\n",
              "      <td>NaN</td>\n",
              "      <td>NaN</td>\n",
              "      <td>NaN</td>\n",
              "      <td>NaN</td>\n",
              "      <td>NaN</td>\n",
              "    </tr>\n",
              "    <tr>\n",
              "      <th>4</th>\n",
              "      <td>0.742559745</td>\n",
              "      <td>1742315412.790393184</td>\n",
              "      <td>Mar 18, 2025 12:30:12.790393184 -04</td>\n",
              "      <td>10.42.0.201</td>\n",
              "      <td>8.8.8.8</td>\n",
              "      <td>NaN</td>\n",
              "      <td>NaN</td>\n",
              "      <td>NaN</td>\n",
              "      <td>NaN</td>\n",
              "      <td>NaN</td>\n",
              "      <td>...</td>\n",
              "      <td>NaN</td>\n",
              "      <td>NaN</td>\n",
              "      <td>NaN</td>\n",
              "      <td>NaN</td>\n",
              "      <td>NaN</td>\n",
              "      <td>NaN</td>\n",
              "      <td>NaN</td>\n",
              "      <td>NaN</td>\n",
              "      <td>NaN</td>\n",
              "      <td>NaN</td>\n",
              "    </tr>\n",
              "  </tbody>\n",
              "</table>\n",
              "<p>5 rows × 24 columns</p>\n",
              "</div>\n",
              "    <div class=\"colab-df-buttons\">\n",
              "\n",
              "  <div class=\"colab-df-container\">\n",
              "    <button class=\"colab-df-convert\" onclick=\"convertToInteractive('df-ee7fa6f0-463a-4e2c-bed5-dae414ebea92')\"\n",
              "            title=\"Convert this dataframe to an interactive table.\"\n",
              "            style=\"display:none;\">\n",
              "\n",
              "  <svg xmlns=\"http://www.w3.org/2000/svg\" height=\"24px\" viewBox=\"0 -960 960 960\">\n",
              "    <path d=\"M120-120v-720h720v720H120Zm60-500h600v-160H180v160Zm220 220h160v-160H400v160Zm0 220h160v-160H400v160ZM180-400h160v-160H180v160Zm440 0h160v-160H620v160ZM180-180h160v-160H180v160Zm440 0h160v-160H620v160Z\"/>\n",
              "  </svg>\n",
              "    </button>\n",
              "\n",
              "  <style>\n",
              "    .colab-df-container {\n",
              "      display:flex;\n",
              "      gap: 12px;\n",
              "    }\n",
              "\n",
              "    .colab-df-convert {\n",
              "      background-color: #E8F0FE;\n",
              "      border: none;\n",
              "      border-radius: 50%;\n",
              "      cursor: pointer;\n",
              "      display: none;\n",
              "      fill: #1967D2;\n",
              "      height: 32px;\n",
              "      padding: 0 0 0 0;\n",
              "      width: 32px;\n",
              "    }\n",
              "\n",
              "    .colab-df-convert:hover {\n",
              "      background-color: #E2EBFA;\n",
              "      box-shadow: 0px 1px 2px rgba(60, 64, 67, 0.3), 0px 1px 3px 1px rgba(60, 64, 67, 0.15);\n",
              "      fill: #174EA6;\n",
              "    }\n",
              "\n",
              "    .colab-df-buttons div {\n",
              "      margin-bottom: 4px;\n",
              "    }\n",
              "\n",
              "    [theme=dark] .colab-df-convert {\n",
              "      background-color: #3B4455;\n",
              "      fill: #D2E3FC;\n",
              "    }\n",
              "\n",
              "    [theme=dark] .colab-df-convert:hover {\n",
              "      background-color: #434B5C;\n",
              "      box-shadow: 0px 1px 3px 1px rgba(0, 0, 0, 0.15);\n",
              "      filter: drop-shadow(0px 1px 2px rgba(0, 0, 0, 0.3));\n",
              "      fill: #FFFFFF;\n",
              "    }\n",
              "  </style>\n",
              "\n",
              "    <script>\n",
              "      const buttonEl =\n",
              "        document.querySelector('#df-ee7fa6f0-463a-4e2c-bed5-dae414ebea92 button.colab-df-convert');\n",
              "      buttonEl.style.display =\n",
              "        google.colab.kernel.accessAllowed ? 'block' : 'none';\n",
              "\n",
              "      async function convertToInteractive(key) {\n",
              "        const element = document.querySelector('#df-ee7fa6f0-463a-4e2c-bed5-dae414ebea92');\n",
              "        const dataTable =\n",
              "          await google.colab.kernel.invokeFunction('convertToInteractive',\n",
              "                                                    [key], {});\n",
              "        if (!dataTable) return;\n",
              "\n",
              "        const docLinkHtml = 'Like what you see? Visit the ' +\n",
              "          '<a target=\"_blank\" href=https://colab.research.google.com/notebooks/data_table.ipynb>data table notebook</a>'\n",
              "          + ' to learn more about interactive tables.';\n",
              "        element.innerHTML = '';\n",
              "        dataTable['output_type'] = 'display_data';\n",
              "        await google.colab.output.renderOutput(dataTable, element);\n",
              "        const docLink = document.createElement('div');\n",
              "        docLink.innerHTML = docLinkHtml;\n",
              "        element.appendChild(docLink);\n",
              "      }\n",
              "    </script>\n",
              "  </div>\n",
              "\n",
              "\n",
              "<div id=\"df-a89aec30-a980-415e-b331-ba665280009d\">\n",
              "  <button class=\"colab-df-quickchart\" onclick=\"quickchart('df-a89aec30-a980-415e-b331-ba665280009d')\"\n",
              "            title=\"Suggest charts\"\n",
              "            style=\"display:none;\">\n",
              "\n",
              "<svg xmlns=\"http://www.w3.org/2000/svg\" height=\"24px\"viewBox=\"0 0 24 24\"\n",
              "     width=\"24px\">\n",
              "    <g>\n",
              "        <path d=\"M19 3H5c-1.1 0-2 .9-2 2v14c0 1.1.9 2 2 2h14c1.1 0 2-.9 2-2V5c0-1.1-.9-2-2-2zM9 17H7v-7h2v7zm4 0h-2V7h2v10zm4 0h-2v-4h2v4z\"/>\n",
              "    </g>\n",
              "</svg>\n",
              "  </button>\n",
              "\n",
              "<style>\n",
              "  .colab-df-quickchart {\n",
              "      --bg-color: #E8F0FE;\n",
              "      --fill-color: #1967D2;\n",
              "      --hover-bg-color: #E2EBFA;\n",
              "      --hover-fill-color: #174EA6;\n",
              "      --disabled-fill-color: #AAA;\n",
              "      --disabled-bg-color: #DDD;\n",
              "  }\n",
              "\n",
              "  [theme=dark] .colab-df-quickchart {\n",
              "      --bg-color: #3B4455;\n",
              "      --fill-color: #D2E3FC;\n",
              "      --hover-bg-color: #434B5C;\n",
              "      --hover-fill-color: #FFFFFF;\n",
              "      --disabled-bg-color: #3B4455;\n",
              "      --disabled-fill-color: #666;\n",
              "  }\n",
              "\n",
              "  .colab-df-quickchart {\n",
              "    background-color: var(--bg-color);\n",
              "    border: none;\n",
              "    border-radius: 50%;\n",
              "    cursor: pointer;\n",
              "    display: none;\n",
              "    fill: var(--fill-color);\n",
              "    height: 32px;\n",
              "    padding: 0;\n",
              "    width: 32px;\n",
              "  }\n",
              "\n",
              "  .colab-df-quickchart:hover {\n",
              "    background-color: var(--hover-bg-color);\n",
              "    box-shadow: 0 1px 2px rgba(60, 64, 67, 0.3), 0 1px 3px 1px rgba(60, 64, 67, 0.15);\n",
              "    fill: var(--button-hover-fill-color);\n",
              "  }\n",
              "\n",
              "  .colab-df-quickchart-complete:disabled,\n",
              "  .colab-df-quickchart-complete:disabled:hover {\n",
              "    background-color: var(--disabled-bg-color);\n",
              "    fill: var(--disabled-fill-color);\n",
              "    box-shadow: none;\n",
              "  }\n",
              "\n",
              "  .colab-df-spinner {\n",
              "    border: 2px solid var(--fill-color);\n",
              "    border-color: transparent;\n",
              "    border-bottom-color: var(--fill-color);\n",
              "    animation:\n",
              "      spin 1s steps(1) infinite;\n",
              "  }\n",
              "\n",
              "  @keyframes spin {\n",
              "    0% {\n",
              "      border-color: transparent;\n",
              "      border-bottom-color: var(--fill-color);\n",
              "      border-left-color: var(--fill-color);\n",
              "    }\n",
              "    20% {\n",
              "      border-color: transparent;\n",
              "      border-left-color: var(--fill-color);\n",
              "      border-top-color: var(--fill-color);\n",
              "    }\n",
              "    30% {\n",
              "      border-color: transparent;\n",
              "      border-left-color: var(--fill-color);\n",
              "      border-top-color: var(--fill-color);\n",
              "      border-right-color: var(--fill-color);\n",
              "    }\n",
              "    40% {\n",
              "      border-color: transparent;\n",
              "      border-right-color: var(--fill-color);\n",
              "      border-top-color: var(--fill-color);\n",
              "    }\n",
              "    60% {\n",
              "      border-color: transparent;\n",
              "      border-right-color: var(--fill-color);\n",
              "    }\n",
              "    80% {\n",
              "      border-color: transparent;\n",
              "      border-right-color: var(--fill-color);\n",
              "      border-bottom-color: var(--fill-color);\n",
              "    }\n",
              "    90% {\n",
              "      border-color: transparent;\n",
              "      border-bottom-color: var(--fill-color);\n",
              "    }\n",
              "  }\n",
              "</style>\n",
              "\n",
              "  <script>\n",
              "    async function quickchart(key) {\n",
              "      const quickchartButtonEl =\n",
              "        document.querySelector('#' + key + ' button');\n",
              "      quickchartButtonEl.disabled = true;  // To prevent multiple clicks.\n",
              "      quickchartButtonEl.classList.add('colab-df-spinner');\n",
              "      try {\n",
              "        const charts = await google.colab.kernel.invokeFunction(\n",
              "            'suggestCharts', [key], {});\n",
              "      } catch (error) {\n",
              "        console.error('Error during call to suggestCharts:', error);\n",
              "      }\n",
              "      quickchartButtonEl.classList.remove('colab-df-spinner');\n",
              "      quickchartButtonEl.classList.add('colab-df-quickchart-complete');\n",
              "    }\n",
              "    (() => {\n",
              "      let quickchartButtonEl =\n",
              "        document.querySelector('#df-a89aec30-a980-415e-b331-ba665280009d button');\n",
              "      quickchartButtonEl.style.display =\n",
              "        google.colab.kernel.accessAllowed ? 'block' : 'none';\n",
              "    })();\n",
              "  </script>\n",
              "</div>\n",
              "\n",
              "    </div>\n",
              "  </div>\n"
            ],
            "application/vnd.google.colaboratory.intrinsic+json": {
              "type": "dataframe",
              "variable_name": "df"
            }
          },
          "metadata": {},
          "execution_count": 3
        }
      ],
      "source": [
        "# remocao dos colchetes\n",
        "'''\n",
        "A funcao a seguir faz a seguinte operação:\n",
        "- percore cada celula do dataframe\n",
        "- aplica uma funcao anomina que:\n",
        " -- verifica se a celula é uma lista\n",
        " -- verifica se a lista possui apenas um valor - se possuir, retorna o valor\n",
        " -- se a lista possuir mais de um valor, retorna a lista\n",
        "'''\n",
        "\n",
        "df = df.applymap(lambda x: x[0] if isinstance(x, list) else x)\n",
        "df.head()"
      ]
    },
    {
      "cell_type": "code",
      "execution_count": null,
      "metadata": {
        "colab": {
          "base_uri": "https://localhost:8080/"
        },
        "id": "pIb8_fQI4R8R",
        "outputId": "b3277c43-c91f-46e6-b679-79af0b3c2d63"
      },
      "outputs": [
        {
          "output_type": "stream",
          "name": "stdout",
          "text": [
            "mqtt.dupflag\n",
            "0    7628\n",
            "1     263\n",
            "Name: count, dtype: int64\n"
          ]
        }
      ],
      "source": [
        "print(df['mqtt.dupflag'].value_counts())"
      ]
    },
    {
      "cell_type": "markdown",
      "metadata": {
        "id": "Id2ksw-F4Tqw"
      },
      "source": [
        "# **Análise de campos que fazem sentido**"
      ]
    },
    {
      "cell_type": "code",
      "execution_count": null,
      "metadata": {
        "id": "eTOcgtezQ-Gz"
      },
      "outputs": [],
      "source": [
        "'''\n",
        "Analisando campos que fazem sentido:\n",
        "\n",
        "Se existir MQTT-MSG e MQTT-FLAGS, outros campos MQTT devem conter algum valor que não seja NaN\n",
        "'''\n",
        "\n",
        "# filtragem das linhas onde as colunas 'mqtt.msgtype' e 'mqtt.hdrflags' não são NaN\n",
        "df_msgtype = df.dropna(subset=['mqtt.msgtype'])\n",
        "df_mqttflags = df.dropna(subset=['mqtt.hdrflags'])"
      ]
    },
    {
      "cell_type": "code",
      "execution_count": null,
      "metadata": {
        "colab": {
          "base_uri": "https://localhost:8080/",
          "height": 429
        },
        "id": "0HBEvZk_RjbS",
        "outputId": "ada98485-4744-448f-875c-cd348f7325f7"
      },
      "outputs": [
        {
          "output_type": "execute_result",
          "data": {
            "text/plain": [
              "    frame.time_relative      frame.time_epoch  \\\n",
              "340        24.117521004  1742315436.165354443   \n",
              "343        24.196854189  1742315436.244687628   \n",
              "354        25.110755815  1742315437.158589254   \n",
              "356        25.113554725  1742315437.161388164   \n",
              "358        25.127662532  1742315437.175495971   \n",
              "\n",
              "                              frame.time       ip.src       ip.dst tcp.stream  \\\n",
              "340  Mar 18, 2025 12:30:36.165354443 -04  10.42.0.201    10.42.0.1         77   \n",
              "343  Mar 18, 2025 12:30:36.244687628 -04    10.42.0.1  10.42.0.201         77   \n",
              "354  Mar 18, 2025 12:30:37.158589254 -04  10.42.0.201    10.42.0.1         77   \n",
              "356  Mar 18, 2025 12:30:37.161388164 -04  10.42.0.201    10.42.0.1         77   \n",
              "358  Mar 18, 2025 12:30:37.175495971 -04    10.42.0.1  10.42.0.201         77   \n",
              "\n",
              "    tcp.seq tcp.srcport tcp.dstport tcp.len  ... tcp.flags.urg tcp.time_delta  \\\n",
              "340       1       64531        1883      15  ...             0    0.000545519   \n",
              "343       1        1883       64531      58  ...             0    0.079274407   \n",
              "354      16       64531        1883       9  ...             0    0.828167121   \n",
              "356      25       64531        1883      14  ...             0    0.002751820   \n",
              "358      59        1883       64531       6  ...             0    0.014062426   \n",
              "\n",
              "    tcp.window_size_value mqtt.msgtype mqtt.hdrflags mqtt.len mqtt.msgid  \\\n",
              "340                   502            1          0x10       13        NaN   \n",
              "343                   509            2          0x20       56        NaN   \n",
              "354                   502            8          0x82        7          1   \n",
              "356                   502            8          0x82       12          2   \n",
              "358                   509            9          0x90        4          1   \n",
              "\n",
              "    mqtt.dupflag mqtt.msg mqtt.qos  \n",
              "340          NaN      NaN      NaN  \n",
              "343          NaN      NaN      NaN  \n",
              "354          NaN      NaN      NaN  \n",
              "356          NaN      NaN      NaN  \n",
              "358          NaN      NaN      NaN  \n",
              "\n",
              "[5 rows x 24 columns]"
            ],
            "text/html": [
              "\n",
              "  <div id=\"df-09115933-4c55-4ba2-b45b-064290efabc1\" class=\"colab-df-container\">\n",
              "    <div>\n",
              "<style scoped>\n",
              "    .dataframe tbody tr th:only-of-type {\n",
              "        vertical-align: middle;\n",
              "    }\n",
              "\n",
              "    .dataframe tbody tr th {\n",
              "        vertical-align: top;\n",
              "    }\n",
              "\n",
              "    .dataframe thead th {\n",
              "        text-align: right;\n",
              "    }\n",
              "</style>\n",
              "<table border=\"1\" class=\"dataframe\">\n",
              "  <thead>\n",
              "    <tr style=\"text-align: right;\">\n",
              "      <th></th>\n",
              "      <th>frame.time_relative</th>\n",
              "      <th>frame.time_epoch</th>\n",
              "      <th>frame.time</th>\n",
              "      <th>ip.src</th>\n",
              "      <th>ip.dst</th>\n",
              "      <th>tcp.stream</th>\n",
              "      <th>tcp.seq</th>\n",
              "      <th>tcp.srcport</th>\n",
              "      <th>tcp.dstport</th>\n",
              "      <th>tcp.len</th>\n",
              "      <th>...</th>\n",
              "      <th>tcp.flags.urg</th>\n",
              "      <th>tcp.time_delta</th>\n",
              "      <th>tcp.window_size_value</th>\n",
              "      <th>mqtt.msgtype</th>\n",
              "      <th>mqtt.hdrflags</th>\n",
              "      <th>mqtt.len</th>\n",
              "      <th>mqtt.msgid</th>\n",
              "      <th>mqtt.dupflag</th>\n",
              "      <th>mqtt.msg</th>\n",
              "      <th>mqtt.qos</th>\n",
              "    </tr>\n",
              "  </thead>\n",
              "  <tbody>\n",
              "    <tr>\n",
              "      <th>340</th>\n",
              "      <td>24.117521004</td>\n",
              "      <td>1742315436.165354443</td>\n",
              "      <td>Mar 18, 2025 12:30:36.165354443 -04</td>\n",
              "      <td>10.42.0.201</td>\n",
              "      <td>10.42.0.1</td>\n",
              "      <td>77</td>\n",
              "      <td>1</td>\n",
              "      <td>64531</td>\n",
              "      <td>1883</td>\n",
              "      <td>15</td>\n",
              "      <td>...</td>\n",
              "      <td>0</td>\n",
              "      <td>0.000545519</td>\n",
              "      <td>502</td>\n",
              "      <td>1</td>\n",
              "      <td>0x10</td>\n",
              "      <td>13</td>\n",
              "      <td>NaN</td>\n",
              "      <td>NaN</td>\n",
              "      <td>NaN</td>\n",
              "      <td>NaN</td>\n",
              "    </tr>\n",
              "    <tr>\n",
              "      <th>343</th>\n",
              "      <td>24.196854189</td>\n",
              "      <td>1742315436.244687628</td>\n",
              "      <td>Mar 18, 2025 12:30:36.244687628 -04</td>\n",
              "      <td>10.42.0.1</td>\n",
              "      <td>10.42.0.201</td>\n",
              "      <td>77</td>\n",
              "      <td>1</td>\n",
              "      <td>1883</td>\n",
              "      <td>64531</td>\n",
              "      <td>58</td>\n",
              "      <td>...</td>\n",
              "      <td>0</td>\n",
              "      <td>0.079274407</td>\n",
              "      <td>509</td>\n",
              "      <td>2</td>\n",
              "      <td>0x20</td>\n",
              "      <td>56</td>\n",
              "      <td>NaN</td>\n",
              "      <td>NaN</td>\n",
              "      <td>NaN</td>\n",
              "      <td>NaN</td>\n",
              "    </tr>\n",
              "    <tr>\n",
              "      <th>354</th>\n",
              "      <td>25.110755815</td>\n",
              "      <td>1742315437.158589254</td>\n",
              "      <td>Mar 18, 2025 12:30:37.158589254 -04</td>\n",
              "      <td>10.42.0.201</td>\n",
              "      <td>10.42.0.1</td>\n",
              "      <td>77</td>\n",
              "      <td>16</td>\n",
              "      <td>64531</td>\n",
              "      <td>1883</td>\n",
              "      <td>9</td>\n",
              "      <td>...</td>\n",
              "      <td>0</td>\n",
              "      <td>0.828167121</td>\n",
              "      <td>502</td>\n",
              "      <td>8</td>\n",
              "      <td>0x82</td>\n",
              "      <td>7</td>\n",
              "      <td>1</td>\n",
              "      <td>NaN</td>\n",
              "      <td>NaN</td>\n",
              "      <td>NaN</td>\n",
              "    </tr>\n",
              "    <tr>\n",
              "      <th>356</th>\n",
              "      <td>25.113554725</td>\n",
              "      <td>1742315437.161388164</td>\n",
              "      <td>Mar 18, 2025 12:30:37.161388164 -04</td>\n",
              "      <td>10.42.0.201</td>\n",
              "      <td>10.42.0.1</td>\n",
              "      <td>77</td>\n",
              "      <td>25</td>\n",
              "      <td>64531</td>\n",
              "      <td>1883</td>\n",
              "      <td>14</td>\n",
              "      <td>...</td>\n",
              "      <td>0</td>\n",
              "      <td>0.002751820</td>\n",
              "      <td>502</td>\n",
              "      <td>8</td>\n",
              "      <td>0x82</td>\n",
              "      <td>12</td>\n",
              "      <td>2</td>\n",
              "      <td>NaN</td>\n",
              "      <td>NaN</td>\n",
              "      <td>NaN</td>\n",
              "    </tr>\n",
              "    <tr>\n",
              "      <th>358</th>\n",
              "      <td>25.127662532</td>\n",
              "      <td>1742315437.175495971</td>\n",
              "      <td>Mar 18, 2025 12:30:37.175495971 -04</td>\n",
              "      <td>10.42.0.1</td>\n",
              "      <td>10.42.0.201</td>\n",
              "      <td>77</td>\n",
              "      <td>59</td>\n",
              "      <td>1883</td>\n",
              "      <td>64531</td>\n",
              "      <td>6</td>\n",
              "      <td>...</td>\n",
              "      <td>0</td>\n",
              "      <td>0.014062426</td>\n",
              "      <td>509</td>\n",
              "      <td>9</td>\n",
              "      <td>0x90</td>\n",
              "      <td>4</td>\n",
              "      <td>1</td>\n",
              "      <td>NaN</td>\n",
              "      <td>NaN</td>\n",
              "      <td>NaN</td>\n",
              "    </tr>\n",
              "  </tbody>\n",
              "</table>\n",
              "<p>5 rows × 24 columns</p>\n",
              "</div>\n",
              "    <div class=\"colab-df-buttons\">\n",
              "\n",
              "  <div class=\"colab-df-container\">\n",
              "    <button class=\"colab-df-convert\" onclick=\"convertToInteractive('df-09115933-4c55-4ba2-b45b-064290efabc1')\"\n",
              "            title=\"Convert this dataframe to an interactive table.\"\n",
              "            style=\"display:none;\">\n",
              "\n",
              "  <svg xmlns=\"http://www.w3.org/2000/svg\" height=\"24px\" viewBox=\"0 -960 960 960\">\n",
              "    <path d=\"M120-120v-720h720v720H120Zm60-500h600v-160H180v160Zm220 220h160v-160H400v160Zm0 220h160v-160H400v160ZM180-400h160v-160H180v160Zm440 0h160v-160H620v160ZM180-180h160v-160H180v160Zm440 0h160v-160H620v160Z\"/>\n",
              "  </svg>\n",
              "    </button>\n",
              "\n",
              "  <style>\n",
              "    .colab-df-container {\n",
              "      display:flex;\n",
              "      gap: 12px;\n",
              "    }\n",
              "\n",
              "    .colab-df-convert {\n",
              "      background-color: #E8F0FE;\n",
              "      border: none;\n",
              "      border-radius: 50%;\n",
              "      cursor: pointer;\n",
              "      display: none;\n",
              "      fill: #1967D2;\n",
              "      height: 32px;\n",
              "      padding: 0 0 0 0;\n",
              "      width: 32px;\n",
              "    }\n",
              "\n",
              "    .colab-df-convert:hover {\n",
              "      background-color: #E2EBFA;\n",
              "      box-shadow: 0px 1px 2px rgba(60, 64, 67, 0.3), 0px 1px 3px 1px rgba(60, 64, 67, 0.15);\n",
              "      fill: #174EA6;\n",
              "    }\n",
              "\n",
              "    .colab-df-buttons div {\n",
              "      margin-bottom: 4px;\n",
              "    }\n",
              "\n",
              "    [theme=dark] .colab-df-convert {\n",
              "      background-color: #3B4455;\n",
              "      fill: #D2E3FC;\n",
              "    }\n",
              "\n",
              "    [theme=dark] .colab-df-convert:hover {\n",
              "      background-color: #434B5C;\n",
              "      box-shadow: 0px 1px 3px 1px rgba(0, 0, 0, 0.15);\n",
              "      filter: drop-shadow(0px 1px 2px rgba(0, 0, 0, 0.3));\n",
              "      fill: #FFFFFF;\n",
              "    }\n",
              "  </style>\n",
              "\n",
              "    <script>\n",
              "      const buttonEl =\n",
              "        document.querySelector('#df-09115933-4c55-4ba2-b45b-064290efabc1 button.colab-df-convert');\n",
              "      buttonEl.style.display =\n",
              "        google.colab.kernel.accessAllowed ? 'block' : 'none';\n",
              "\n",
              "      async function convertToInteractive(key) {\n",
              "        const element = document.querySelector('#df-09115933-4c55-4ba2-b45b-064290efabc1');\n",
              "        const dataTable =\n",
              "          await google.colab.kernel.invokeFunction('convertToInteractive',\n",
              "                                                    [key], {});\n",
              "        if (!dataTable) return;\n",
              "\n",
              "        const docLinkHtml = 'Like what you see? Visit the ' +\n",
              "          '<a target=\"_blank\" href=https://colab.research.google.com/notebooks/data_table.ipynb>data table notebook</a>'\n",
              "          + ' to learn more about interactive tables.';\n",
              "        element.innerHTML = '';\n",
              "        dataTable['output_type'] = 'display_data';\n",
              "        await google.colab.output.renderOutput(dataTable, element);\n",
              "        const docLink = document.createElement('div');\n",
              "        docLink.innerHTML = docLinkHtml;\n",
              "        element.appendChild(docLink);\n",
              "      }\n",
              "    </script>\n",
              "  </div>\n",
              "\n",
              "\n",
              "<div id=\"df-05055310-15c2-40cd-a7c6-090174f8172b\">\n",
              "  <button class=\"colab-df-quickchart\" onclick=\"quickchart('df-05055310-15c2-40cd-a7c6-090174f8172b')\"\n",
              "            title=\"Suggest charts\"\n",
              "            style=\"display:none;\">\n",
              "\n",
              "<svg xmlns=\"http://www.w3.org/2000/svg\" height=\"24px\"viewBox=\"0 0 24 24\"\n",
              "     width=\"24px\">\n",
              "    <g>\n",
              "        <path d=\"M19 3H5c-1.1 0-2 .9-2 2v14c0 1.1.9 2 2 2h14c1.1 0 2-.9 2-2V5c0-1.1-.9-2-2-2zM9 17H7v-7h2v7zm4 0h-2V7h2v10zm4 0h-2v-4h2v4z\"/>\n",
              "    </g>\n",
              "</svg>\n",
              "  </button>\n",
              "\n",
              "<style>\n",
              "  .colab-df-quickchart {\n",
              "      --bg-color: #E8F0FE;\n",
              "      --fill-color: #1967D2;\n",
              "      --hover-bg-color: #E2EBFA;\n",
              "      --hover-fill-color: #174EA6;\n",
              "      --disabled-fill-color: #AAA;\n",
              "      --disabled-bg-color: #DDD;\n",
              "  }\n",
              "\n",
              "  [theme=dark] .colab-df-quickchart {\n",
              "      --bg-color: #3B4455;\n",
              "      --fill-color: #D2E3FC;\n",
              "      --hover-bg-color: #434B5C;\n",
              "      --hover-fill-color: #FFFFFF;\n",
              "      --disabled-bg-color: #3B4455;\n",
              "      --disabled-fill-color: #666;\n",
              "  }\n",
              "\n",
              "  .colab-df-quickchart {\n",
              "    background-color: var(--bg-color);\n",
              "    border: none;\n",
              "    border-radius: 50%;\n",
              "    cursor: pointer;\n",
              "    display: none;\n",
              "    fill: var(--fill-color);\n",
              "    height: 32px;\n",
              "    padding: 0;\n",
              "    width: 32px;\n",
              "  }\n",
              "\n",
              "  .colab-df-quickchart:hover {\n",
              "    background-color: var(--hover-bg-color);\n",
              "    box-shadow: 0 1px 2px rgba(60, 64, 67, 0.3), 0 1px 3px 1px rgba(60, 64, 67, 0.15);\n",
              "    fill: var(--button-hover-fill-color);\n",
              "  }\n",
              "\n",
              "  .colab-df-quickchart-complete:disabled,\n",
              "  .colab-df-quickchart-complete:disabled:hover {\n",
              "    background-color: var(--disabled-bg-color);\n",
              "    fill: var(--disabled-fill-color);\n",
              "    box-shadow: none;\n",
              "  }\n",
              "\n",
              "  .colab-df-spinner {\n",
              "    border: 2px solid var(--fill-color);\n",
              "    border-color: transparent;\n",
              "    border-bottom-color: var(--fill-color);\n",
              "    animation:\n",
              "      spin 1s steps(1) infinite;\n",
              "  }\n",
              "\n",
              "  @keyframes spin {\n",
              "    0% {\n",
              "      border-color: transparent;\n",
              "      border-bottom-color: var(--fill-color);\n",
              "      border-left-color: var(--fill-color);\n",
              "    }\n",
              "    20% {\n",
              "      border-color: transparent;\n",
              "      border-left-color: var(--fill-color);\n",
              "      border-top-color: var(--fill-color);\n",
              "    }\n",
              "    30% {\n",
              "      border-color: transparent;\n",
              "      border-left-color: var(--fill-color);\n",
              "      border-top-color: var(--fill-color);\n",
              "      border-right-color: var(--fill-color);\n",
              "    }\n",
              "    40% {\n",
              "      border-color: transparent;\n",
              "      border-right-color: var(--fill-color);\n",
              "      border-top-color: var(--fill-color);\n",
              "    }\n",
              "    60% {\n",
              "      border-color: transparent;\n",
              "      border-right-color: var(--fill-color);\n",
              "    }\n",
              "    80% {\n",
              "      border-color: transparent;\n",
              "      border-right-color: var(--fill-color);\n",
              "      border-bottom-color: var(--fill-color);\n",
              "    }\n",
              "    90% {\n",
              "      border-color: transparent;\n",
              "      border-bottom-color: var(--fill-color);\n",
              "    }\n",
              "  }\n",
              "</style>\n",
              "\n",
              "  <script>\n",
              "    async function quickchart(key) {\n",
              "      const quickchartButtonEl =\n",
              "        document.querySelector('#' + key + ' button');\n",
              "      quickchartButtonEl.disabled = true;  // To prevent multiple clicks.\n",
              "      quickchartButtonEl.classList.add('colab-df-spinner');\n",
              "      try {\n",
              "        const charts = await google.colab.kernel.invokeFunction(\n",
              "            'suggestCharts', [key], {});\n",
              "      } catch (error) {\n",
              "        console.error('Error during call to suggestCharts:', error);\n",
              "      }\n",
              "      quickchartButtonEl.classList.remove('colab-df-spinner');\n",
              "      quickchartButtonEl.classList.add('colab-df-quickchart-complete');\n",
              "    }\n",
              "    (() => {\n",
              "      let quickchartButtonEl =\n",
              "        document.querySelector('#df-05055310-15c2-40cd-a7c6-090174f8172b button');\n",
              "      quickchartButtonEl.style.display =\n",
              "        google.colab.kernel.accessAllowed ? 'block' : 'none';\n",
              "    })();\n",
              "  </script>\n",
              "</div>\n",
              "\n",
              "    </div>\n",
              "  </div>\n"
            ],
            "application/vnd.google.colaboratory.intrinsic+json": {
              "type": "dataframe",
              "variable_name": "df_msgtype"
            }
          },
          "metadata": {},
          "execution_count": 9
        }
      ],
      "source": [
        "df_msgtype.head()"
      ]
    },
    {
      "cell_type": "code",
      "execution_count": null,
      "metadata": {
        "colab": {
          "base_uri": "https://localhost:8080/",
          "height": 489
        },
        "id": "K9BYrBue2_ux",
        "outputId": "b5618a11-a704-4738-edea-a7ff9af63021"
      },
      "outputs": [
        {
          "output_type": "execute_result",
          "data": {
            "text/plain": [
              "mqtt.hdrflags\n",
              "0x40    7365\n",
              "0x32    7064\n",
              "0x10     703\n",
              "0x20     683\n",
              "0x30     240\n",
              "        ... \n",
              "0x6f       1\n",
              "0x1b       1\n",
              "0x1a       1\n",
              "0x22       1\n",
              "0x2f       1\n",
              "Name: count, Length: 61, dtype: int64"
            ],
            "text/html": [
              "<div>\n",
              "<style scoped>\n",
              "    .dataframe tbody tr th:only-of-type {\n",
              "        vertical-align: middle;\n",
              "    }\n",
              "\n",
              "    .dataframe tbody tr th {\n",
              "        vertical-align: top;\n",
              "    }\n",
              "\n",
              "    .dataframe thead th {\n",
              "        text-align: right;\n",
              "    }\n",
              "</style>\n",
              "<table border=\"1\" class=\"dataframe\">\n",
              "  <thead>\n",
              "    <tr style=\"text-align: right;\">\n",
              "      <th></th>\n",
              "      <th>count</th>\n",
              "    </tr>\n",
              "    <tr>\n",
              "      <th>mqtt.hdrflags</th>\n",
              "      <th></th>\n",
              "    </tr>\n",
              "  </thead>\n",
              "  <tbody>\n",
              "    <tr>\n",
              "      <th>0x40</th>\n",
              "      <td>7365</td>\n",
              "    </tr>\n",
              "    <tr>\n",
              "      <th>0x32</th>\n",
              "      <td>7064</td>\n",
              "    </tr>\n",
              "    <tr>\n",
              "      <th>0x10</th>\n",
              "      <td>703</td>\n",
              "    </tr>\n",
              "    <tr>\n",
              "      <th>0x20</th>\n",
              "      <td>683</td>\n",
              "    </tr>\n",
              "    <tr>\n",
              "      <th>0x30</th>\n",
              "      <td>240</td>\n",
              "    </tr>\n",
              "    <tr>\n",
              "      <th>...</th>\n",
              "      <td>...</td>\n",
              "    </tr>\n",
              "    <tr>\n",
              "      <th>0x6f</th>\n",
              "      <td>1</td>\n",
              "    </tr>\n",
              "    <tr>\n",
              "      <th>0x1b</th>\n",
              "      <td>1</td>\n",
              "    </tr>\n",
              "    <tr>\n",
              "      <th>0x1a</th>\n",
              "      <td>1</td>\n",
              "    </tr>\n",
              "    <tr>\n",
              "      <th>0x22</th>\n",
              "      <td>1</td>\n",
              "    </tr>\n",
              "    <tr>\n",
              "      <th>0x2f</th>\n",
              "      <td>1</td>\n",
              "    </tr>\n",
              "  </tbody>\n",
              "</table>\n",
              "<p>61 rows × 1 columns</p>\n",
              "</div><br><label><b>dtype:</b> int64</label>"
            ]
          },
          "metadata": {},
          "execution_count": 6
        }
      ],
      "source": [
        "df_msgtype['mqtt.hdrflags'].value_counts()"
      ]
    },
    {
      "cell_type": "code",
      "execution_count": null,
      "metadata": {
        "colab": {
          "base_uri": "https://localhost:8080/",
          "height": 523
        },
        "id": "ArmppjVe3QZs",
        "outputId": "cb05326d-3dd2-4d9a-999f-d86065383269"
      },
      "outputs": [
        {
          "output_type": "execute_result",
          "data": {
            "text/plain": [
              "mqtt.msgtype\n",
              "3     7705\n",
              "4     7414\n",
              "1      712\n",
              "2      695\n",
              "6      134\n",
              "14      68\n",
              "7       49\n",
              "5       39\n",
              "12      31\n",
              "13      30\n",
              "0       26\n",
              "8       11\n",
              "9        4\n",
              "Name: count, dtype: int64"
            ],
            "text/html": [
              "<div>\n",
              "<style scoped>\n",
              "    .dataframe tbody tr th:only-of-type {\n",
              "        vertical-align: middle;\n",
              "    }\n",
              "\n",
              "    .dataframe tbody tr th {\n",
              "        vertical-align: top;\n",
              "    }\n",
              "\n",
              "    .dataframe thead th {\n",
              "        text-align: right;\n",
              "    }\n",
              "</style>\n",
              "<table border=\"1\" class=\"dataframe\">\n",
              "  <thead>\n",
              "    <tr style=\"text-align: right;\">\n",
              "      <th></th>\n",
              "      <th>count</th>\n",
              "    </tr>\n",
              "    <tr>\n",
              "      <th>mqtt.msgtype</th>\n",
              "      <th></th>\n",
              "    </tr>\n",
              "  </thead>\n",
              "  <tbody>\n",
              "    <tr>\n",
              "      <th>3</th>\n",
              "      <td>7705</td>\n",
              "    </tr>\n",
              "    <tr>\n",
              "      <th>4</th>\n",
              "      <td>7414</td>\n",
              "    </tr>\n",
              "    <tr>\n",
              "      <th>1</th>\n",
              "      <td>712</td>\n",
              "    </tr>\n",
              "    <tr>\n",
              "      <th>2</th>\n",
              "      <td>695</td>\n",
              "    </tr>\n",
              "    <tr>\n",
              "      <th>6</th>\n",
              "      <td>134</td>\n",
              "    </tr>\n",
              "    <tr>\n",
              "      <th>14</th>\n",
              "      <td>68</td>\n",
              "    </tr>\n",
              "    <tr>\n",
              "      <th>7</th>\n",
              "      <td>49</td>\n",
              "    </tr>\n",
              "    <tr>\n",
              "      <th>5</th>\n",
              "      <td>39</td>\n",
              "    </tr>\n",
              "    <tr>\n",
              "      <th>12</th>\n",
              "      <td>31</td>\n",
              "    </tr>\n",
              "    <tr>\n",
              "      <th>13</th>\n",
              "      <td>30</td>\n",
              "    </tr>\n",
              "    <tr>\n",
              "      <th>0</th>\n",
              "      <td>26</td>\n",
              "    </tr>\n",
              "    <tr>\n",
              "      <th>8</th>\n",
              "      <td>11</td>\n",
              "    </tr>\n",
              "    <tr>\n",
              "      <th>9</th>\n",
              "      <td>4</td>\n",
              "    </tr>\n",
              "  </tbody>\n",
              "</table>\n",
              "</div><br><label><b>dtype:</b> int64</label>"
            ]
          },
          "metadata": {},
          "execution_count": 7
        }
      ],
      "source": [
        "df_mqttflags['mqtt.msgtype'].value_counts()"
      ]
    },
    {
      "cell_type": "markdown",
      "metadata": {
        "id": "OT1RYdo33eYi"
      },
      "source": [
        "A análise acima mostra que sempre que existem campos MQTT MSG TYPE, também vão existir campos MQTT FLAGS e os dois não vão conter valores NaN.\n",
        "\n",
        "Logo, podemos extrair os campos que contem esses valores, visto que eles confirmam que tem campo MQTT válido no pacote analisado"
      ]
    },
    {
      "cell_type": "code",
      "source": [
        "# verificação de inconsistencias\n",
        "\n",
        "# verifica se existe algum caso onde mqtt.msgtype não é NaN, mas mqtt.hdrflags é NaN\n",
        "inconsistencias = df[df['mqtt.msgtype'].notna() & df['mqtt.hdrflags'].isna()]\n",
        "\n",
        "print(inconsistencias.shape)"
      ],
      "metadata": {
        "colab": {
          "base_uri": "https://localhost:8080/"
        },
        "id": "wMEpFe9I_pzh",
        "outputId": "d4e27b94-ee5c-4302-abab-6716d2ba8a32"
      },
      "execution_count": null,
      "outputs": [
        {
          "output_type": "stream",
          "name": "stdout",
          "text": [
            "(0, 24)\n"
          ]
        }
      ]
    },
    {
      "cell_type": "code",
      "source": [
        "# verifica se existe algum caso onde mqtt.hdrflags não é NaN, mas mqtt.msgtype é NaN\n",
        "inconsistencias_inversas = df[df['mqtt.hdrflags'].notna() & df['mqtt.msgtype'].isna()]\n",
        "print(inconsistencias_inversas.shape)"
      ],
      "metadata": {
        "colab": {
          "base_uri": "https://localhost:8080/"
        },
        "id": "8Tf6cnmSAX68",
        "outputId": "2f268a6f-9c62-4a51-be1b-53e5fcc1a932"
      },
      "execution_count": null,
      "outputs": [
        {
          "output_type": "stream",
          "name": "stdout",
          "text": [
            "(0, 24)\n"
          ]
        }
      ]
    },
    {
      "cell_type": "code",
      "source": [
        "'''\n",
        "Análise para todos os campos MQTT\n",
        "'''\n",
        "\n",
        "# verifica se, quando 'mqtt.msgtype' ou 'mqtt.hdrflags' for NaN, outras colunas também serão NaN\n",
        "cols_to_check = ['mqtt.len', 'mqtt.msgid', 'mqtt.dupflag', 'mqtt.msg', 'mqtt.qos']\n",
        "inconsistencias = df[df['mqtt.msgtype'].isna() | df['mqtt.hdrflags'].isna()][cols_to_check].notna().sum()\n",
        "print(inconsistencias)"
      ],
      "metadata": {
        "colab": {
          "base_uri": "https://localhost:8080/"
        },
        "id": "xSjxLAD6BKJZ",
        "outputId": "8d7548f2-c5b3-42f3-c668-e76e7f6fa582"
      },
      "execution_count": null,
      "outputs": [
        {
          "output_type": "stream",
          "name": "stdout",
          "text": [
            "mqtt.len        0\n",
            "mqtt.msgid      0\n",
            "mqtt.dupflag    0\n",
            "mqtt.msg        0\n",
            "mqtt.qos        0\n",
            "dtype: int64\n"
          ]
        }
      ]
    },
    {
      "cell_type": "code",
      "execution_count": null,
      "metadata": {
        "colab": {
          "base_uri": "https://localhost:8080/"
        },
        "id": "djFWJs4h3xlq",
        "outputId": "e3bd5cd9-1a70-4a2e-f42c-2b9206d6d0d9"
      },
      "outputs": [
        {
          "output_type": "stream",
          "name": "stdout",
          "text": [
            "Dataframe capturado: \n",
            "(121425, 24)\n",
            "Dataframe ajustado: \n",
            "(16918, 24)\n"
          ]
        }
      ],
      "source": [
        "df_final = df.dropna(subset=['mqtt.msgtype', 'mqtt.hdrflags'])\n",
        "\n",
        "print(\"Dataframe capturado: \")\n",
        "print(df.shape)\n",
        "print(\"Dataframe ajustado: \")\n",
        "print(df_final.shape)"
      ]
    },
    {
      "cell_type": "code",
      "execution_count": null,
      "metadata": {
        "colab": {
          "base_uri": "https://localhost:8080/"
        },
        "id": "_z3eEHrD40jm",
        "outputId": "72bb1193-b70d-4c91-c9b8-162349ac0a99"
      },
      "outputs": [
        {
          "output_type": "execute_result",
          "data": {
            "text/plain": [
              "np.int64(1832)"
            ]
          },
          "metadata": {},
          "execution_count": 12
        }
      ],
      "source": [
        "df_final['mqtt.msgid'].isna().sum()"
      ]
    },
    {
      "cell_type": "code",
      "source": [
        "print(df['mqtt.hdrflags'].value_counts())"
      ],
      "metadata": {
        "colab": {
          "base_uri": "https://localhost:8080/"
        },
        "id": "GRiZjVTFJJJP",
        "outputId": "bb659ccf-6c10-4f71-9b73-47397a993f1d"
      },
      "execution_count": null,
      "outputs": [
        {
          "output_type": "stream",
          "name": "stdout",
          "text": [
            "mqtt.hdrflags\n",
            "0x40    7365\n",
            "0x32    7064\n",
            "0x10     703\n",
            "0x20     683\n",
            "0x30     240\n",
            "        ... \n",
            "0x6f       1\n",
            "0x1b       1\n",
            "0x1a       1\n",
            "0x22       1\n",
            "0x2f       1\n",
            "Name: count, Length: 61, dtype: int64\n"
          ]
        }
      ]
    },
    {
      "cell_type": "code",
      "source": [
        "# rotulação\n",
        "df_final['label'] = 1"
      ],
      "metadata": {
        "colab": {
          "base_uri": "https://localhost:8080/"
        },
        "id": "ROUN556qYO5K",
        "outputId": "bd9095fd-7b18-4e1c-a5e5-10d534f40429"
      },
      "execution_count": null,
      "outputs": [
        {
          "output_type": "stream",
          "name": "stderr",
          "text": [
            "<ipython-input-13-b5a3b9399e7b>:2: SettingWithCopyWarning: \n",
            "A value is trying to be set on a copy of a slice from a DataFrame.\n",
            "Try using .loc[row_indexer,col_indexer] = value instead\n",
            "\n",
            "See the caveats in the documentation: https://pandas.pydata.org/pandas-docs/stable/user_guide/indexing.html#returning-a-view-versus-a-copy\n",
            "  df_final['label'] = 1\n"
          ]
        }
      ]
    },
    {
      "cell_type": "markdown",
      "source": [
        "# **Tratamento dos dados legítimos**"
      ],
      "metadata": {
        "id": "IC_Kok6rZ17P"
      }
    },
    {
      "cell_type": "code",
      "source": [
        "import json\n",
        "with open(\"/content/drive/MyDrive/Prof. Iury Bessa/Matheus Figueiredo /Artigo Cystol 2025/Dados coletados/[coleta 3] captura.json\", \"r\") as f:\n",
        "    data2 = json.load(f)\n",
        "\n",
        "# extrair os dados da chave `_source` -> `layers`\n",
        "packets = [packet[\"_source\"][\"layers\"] for packet in data2]\n",
        "\n",
        "# transformar em DataFrame\n",
        "df_legitimo = pd.DataFrame(packets)\n",
        "df_legitimo.head()"
      ],
      "metadata": {
        "colab": {
          "base_uri": "https://localhost:8080/",
          "height": 429
        },
        "id": "eSLYYXJAaFsE",
        "outputId": "a9b6a781-160e-49be-d091-ac295b17025f"
      },
      "execution_count": null,
      "outputs": [
        {
          "output_type": "execute_result",
          "data": {
            "text/plain": [
              "  frame.time_relative        frame.time_epoch  \\\n",
              "0       [0.000000000]  [1741649627.877963341]   \n",
              "1       [0.076191415]  [1741649627.954154756]   \n",
              "2       [0.076201542]  [1741649627.954164883]   \n",
              "3       [0.091916250]  [1741649627.969879591]   \n",
              "4       [0.091983887]  [1741649627.969947228]   \n",
              "\n",
              "                              frame.time         ip.src     ip.dst tcp.stream  \\\n",
              "0  [Mar 10, 2025 19:33:47.877963341 -04]  [10.42.0.201]  [8.8.8.8]        NaN   \n",
              "1  [Mar 10, 2025 19:33:47.954154756 -04]  [10.42.0.201]  [8.8.8.8]        [0]   \n",
              "2  [Mar 10, 2025 19:33:47.954164883 -04]  [10.42.0.201]  [8.8.8.8]        [1]   \n",
              "3  [Mar 10, 2025 19:33:47.969879591 -04]  [10.42.0.201]  [8.8.8.8]        [2]   \n",
              "4  [Mar 10, 2025 19:33:47.969947228 -04]  [10.42.0.201]  [8.8.8.8]        [3]   \n",
              "\n",
              "  tcp.seq tcp.srcport tcp.dstport tcp.len  ... tcp.flags.urg tcp.time_delta  \\\n",
              "0     NaN         NaN         NaN     NaN  ...           NaN            NaN   \n",
              "1     [0]     [59336]        [53]     [0]  ...           [0]  [0.000000000]   \n",
              "2     [0]     [59337]        [53]     [0]  ...           [0]  [0.000000000]   \n",
              "3     [0]     [59338]        [53]     [0]  ...           [0]  [0.000000000]   \n",
              "4     [0]     [59339]        [53]     [0]  ...           [0]  [0.000000000]   \n",
              "\n",
              "  tcp.window_size_value mqtt.msgtype mqtt.dupflag mqtt.hdrflags mqtt.len  \\\n",
              "0                   NaN          NaN          NaN           NaN      NaN   \n",
              "1               [64240]          NaN          NaN           NaN      NaN   \n",
              "2               [64240]          NaN          NaN           NaN      NaN   \n",
              "3               [64240]          NaN          NaN           NaN      NaN   \n",
              "4               [64240]          NaN          NaN           NaN      NaN   \n",
              "\n",
              "  mqtt.msg mqtt.qos mqtt.msgid  \n",
              "0      NaN      NaN        NaN  \n",
              "1      NaN      NaN        NaN  \n",
              "2      NaN      NaN        NaN  \n",
              "3      NaN      NaN        NaN  \n",
              "4      NaN      NaN        NaN  \n",
              "\n",
              "[5 rows x 24 columns]"
            ],
            "text/html": [
              "\n",
              "  <div id=\"df-fdd5a2c4-4313-4cb1-99c5-b2e1a70723f9\" class=\"colab-df-container\">\n",
              "    <div>\n",
              "<style scoped>\n",
              "    .dataframe tbody tr th:only-of-type {\n",
              "        vertical-align: middle;\n",
              "    }\n",
              "\n",
              "    .dataframe tbody tr th {\n",
              "        vertical-align: top;\n",
              "    }\n",
              "\n",
              "    .dataframe thead th {\n",
              "        text-align: right;\n",
              "    }\n",
              "</style>\n",
              "<table border=\"1\" class=\"dataframe\">\n",
              "  <thead>\n",
              "    <tr style=\"text-align: right;\">\n",
              "      <th></th>\n",
              "      <th>frame.time_relative</th>\n",
              "      <th>frame.time_epoch</th>\n",
              "      <th>frame.time</th>\n",
              "      <th>ip.src</th>\n",
              "      <th>ip.dst</th>\n",
              "      <th>tcp.stream</th>\n",
              "      <th>tcp.seq</th>\n",
              "      <th>tcp.srcport</th>\n",
              "      <th>tcp.dstport</th>\n",
              "      <th>tcp.len</th>\n",
              "      <th>...</th>\n",
              "      <th>tcp.flags.urg</th>\n",
              "      <th>tcp.time_delta</th>\n",
              "      <th>tcp.window_size_value</th>\n",
              "      <th>mqtt.msgtype</th>\n",
              "      <th>mqtt.dupflag</th>\n",
              "      <th>mqtt.hdrflags</th>\n",
              "      <th>mqtt.len</th>\n",
              "      <th>mqtt.msg</th>\n",
              "      <th>mqtt.qos</th>\n",
              "      <th>mqtt.msgid</th>\n",
              "    </tr>\n",
              "  </thead>\n",
              "  <tbody>\n",
              "    <tr>\n",
              "      <th>0</th>\n",
              "      <td>[0.000000000]</td>\n",
              "      <td>[1741649627.877963341]</td>\n",
              "      <td>[Mar 10, 2025 19:33:47.877963341 -04]</td>\n",
              "      <td>[10.42.0.201]</td>\n",
              "      <td>[8.8.8.8]</td>\n",
              "      <td>NaN</td>\n",
              "      <td>NaN</td>\n",
              "      <td>NaN</td>\n",
              "      <td>NaN</td>\n",
              "      <td>NaN</td>\n",
              "      <td>...</td>\n",
              "      <td>NaN</td>\n",
              "      <td>NaN</td>\n",
              "      <td>NaN</td>\n",
              "      <td>NaN</td>\n",
              "      <td>NaN</td>\n",
              "      <td>NaN</td>\n",
              "      <td>NaN</td>\n",
              "      <td>NaN</td>\n",
              "      <td>NaN</td>\n",
              "      <td>NaN</td>\n",
              "    </tr>\n",
              "    <tr>\n",
              "      <th>1</th>\n",
              "      <td>[0.076191415]</td>\n",
              "      <td>[1741649627.954154756]</td>\n",
              "      <td>[Mar 10, 2025 19:33:47.954154756 -04]</td>\n",
              "      <td>[10.42.0.201]</td>\n",
              "      <td>[8.8.8.8]</td>\n",
              "      <td>[0]</td>\n",
              "      <td>[0]</td>\n",
              "      <td>[59336]</td>\n",
              "      <td>[53]</td>\n",
              "      <td>[0]</td>\n",
              "      <td>...</td>\n",
              "      <td>[0]</td>\n",
              "      <td>[0.000000000]</td>\n",
              "      <td>[64240]</td>\n",
              "      <td>NaN</td>\n",
              "      <td>NaN</td>\n",
              "      <td>NaN</td>\n",
              "      <td>NaN</td>\n",
              "      <td>NaN</td>\n",
              "      <td>NaN</td>\n",
              "      <td>NaN</td>\n",
              "    </tr>\n",
              "    <tr>\n",
              "      <th>2</th>\n",
              "      <td>[0.076201542]</td>\n",
              "      <td>[1741649627.954164883]</td>\n",
              "      <td>[Mar 10, 2025 19:33:47.954164883 -04]</td>\n",
              "      <td>[10.42.0.201]</td>\n",
              "      <td>[8.8.8.8]</td>\n",
              "      <td>[1]</td>\n",
              "      <td>[0]</td>\n",
              "      <td>[59337]</td>\n",
              "      <td>[53]</td>\n",
              "      <td>[0]</td>\n",
              "      <td>...</td>\n",
              "      <td>[0]</td>\n",
              "      <td>[0.000000000]</td>\n",
              "      <td>[64240]</td>\n",
              "      <td>NaN</td>\n",
              "      <td>NaN</td>\n",
              "      <td>NaN</td>\n",
              "      <td>NaN</td>\n",
              "      <td>NaN</td>\n",
              "      <td>NaN</td>\n",
              "      <td>NaN</td>\n",
              "    </tr>\n",
              "    <tr>\n",
              "      <th>3</th>\n",
              "      <td>[0.091916250]</td>\n",
              "      <td>[1741649627.969879591]</td>\n",
              "      <td>[Mar 10, 2025 19:33:47.969879591 -04]</td>\n",
              "      <td>[10.42.0.201]</td>\n",
              "      <td>[8.8.8.8]</td>\n",
              "      <td>[2]</td>\n",
              "      <td>[0]</td>\n",
              "      <td>[59338]</td>\n",
              "      <td>[53]</td>\n",
              "      <td>[0]</td>\n",
              "      <td>...</td>\n",
              "      <td>[0]</td>\n",
              "      <td>[0.000000000]</td>\n",
              "      <td>[64240]</td>\n",
              "      <td>NaN</td>\n",
              "      <td>NaN</td>\n",
              "      <td>NaN</td>\n",
              "      <td>NaN</td>\n",
              "      <td>NaN</td>\n",
              "      <td>NaN</td>\n",
              "      <td>NaN</td>\n",
              "    </tr>\n",
              "    <tr>\n",
              "      <th>4</th>\n",
              "      <td>[0.091983887]</td>\n",
              "      <td>[1741649627.969947228]</td>\n",
              "      <td>[Mar 10, 2025 19:33:47.969947228 -04]</td>\n",
              "      <td>[10.42.0.201]</td>\n",
              "      <td>[8.8.8.8]</td>\n",
              "      <td>[3]</td>\n",
              "      <td>[0]</td>\n",
              "      <td>[59339]</td>\n",
              "      <td>[53]</td>\n",
              "      <td>[0]</td>\n",
              "      <td>...</td>\n",
              "      <td>[0]</td>\n",
              "      <td>[0.000000000]</td>\n",
              "      <td>[64240]</td>\n",
              "      <td>NaN</td>\n",
              "      <td>NaN</td>\n",
              "      <td>NaN</td>\n",
              "      <td>NaN</td>\n",
              "      <td>NaN</td>\n",
              "      <td>NaN</td>\n",
              "      <td>NaN</td>\n",
              "    </tr>\n",
              "  </tbody>\n",
              "</table>\n",
              "<p>5 rows × 24 columns</p>\n",
              "</div>\n",
              "    <div class=\"colab-df-buttons\">\n",
              "\n",
              "  <div class=\"colab-df-container\">\n",
              "    <button class=\"colab-df-convert\" onclick=\"convertToInteractive('df-fdd5a2c4-4313-4cb1-99c5-b2e1a70723f9')\"\n",
              "            title=\"Convert this dataframe to an interactive table.\"\n",
              "            style=\"display:none;\">\n",
              "\n",
              "  <svg xmlns=\"http://www.w3.org/2000/svg\" height=\"24px\" viewBox=\"0 -960 960 960\">\n",
              "    <path d=\"M120-120v-720h720v720H120Zm60-500h600v-160H180v160Zm220 220h160v-160H400v160Zm0 220h160v-160H400v160ZM180-400h160v-160H180v160Zm440 0h160v-160H620v160ZM180-180h160v-160H180v160Zm440 0h160v-160H620v160Z\"/>\n",
              "  </svg>\n",
              "    </button>\n",
              "\n",
              "  <style>\n",
              "    .colab-df-container {\n",
              "      display:flex;\n",
              "      gap: 12px;\n",
              "    }\n",
              "\n",
              "    .colab-df-convert {\n",
              "      background-color: #E8F0FE;\n",
              "      border: none;\n",
              "      border-radius: 50%;\n",
              "      cursor: pointer;\n",
              "      display: none;\n",
              "      fill: #1967D2;\n",
              "      height: 32px;\n",
              "      padding: 0 0 0 0;\n",
              "      width: 32px;\n",
              "    }\n",
              "\n",
              "    .colab-df-convert:hover {\n",
              "      background-color: #E2EBFA;\n",
              "      box-shadow: 0px 1px 2px rgba(60, 64, 67, 0.3), 0px 1px 3px 1px rgba(60, 64, 67, 0.15);\n",
              "      fill: #174EA6;\n",
              "    }\n",
              "\n",
              "    .colab-df-buttons div {\n",
              "      margin-bottom: 4px;\n",
              "    }\n",
              "\n",
              "    [theme=dark] .colab-df-convert {\n",
              "      background-color: #3B4455;\n",
              "      fill: #D2E3FC;\n",
              "    }\n",
              "\n",
              "    [theme=dark] .colab-df-convert:hover {\n",
              "      background-color: #434B5C;\n",
              "      box-shadow: 0px 1px 3px 1px rgba(0, 0, 0, 0.15);\n",
              "      filter: drop-shadow(0px 1px 2px rgba(0, 0, 0, 0.3));\n",
              "      fill: #FFFFFF;\n",
              "    }\n",
              "  </style>\n",
              "\n",
              "    <script>\n",
              "      const buttonEl =\n",
              "        document.querySelector('#df-fdd5a2c4-4313-4cb1-99c5-b2e1a70723f9 button.colab-df-convert');\n",
              "      buttonEl.style.display =\n",
              "        google.colab.kernel.accessAllowed ? 'block' : 'none';\n",
              "\n",
              "      async function convertToInteractive(key) {\n",
              "        const element = document.querySelector('#df-fdd5a2c4-4313-4cb1-99c5-b2e1a70723f9');\n",
              "        const dataTable =\n",
              "          await google.colab.kernel.invokeFunction('convertToInteractive',\n",
              "                                                    [key], {});\n",
              "        if (!dataTable) return;\n",
              "\n",
              "        const docLinkHtml = 'Like what you see? Visit the ' +\n",
              "          '<a target=\"_blank\" href=https://colab.research.google.com/notebooks/data_table.ipynb>data table notebook</a>'\n",
              "          + ' to learn more about interactive tables.';\n",
              "        element.innerHTML = '';\n",
              "        dataTable['output_type'] = 'display_data';\n",
              "        await google.colab.output.renderOutput(dataTable, element);\n",
              "        const docLink = document.createElement('div');\n",
              "        docLink.innerHTML = docLinkHtml;\n",
              "        element.appendChild(docLink);\n",
              "      }\n",
              "    </script>\n",
              "  </div>\n",
              "\n",
              "\n",
              "<div id=\"df-4415950e-1407-4da1-bb67-33e2a736c138\">\n",
              "  <button class=\"colab-df-quickchart\" onclick=\"quickchart('df-4415950e-1407-4da1-bb67-33e2a736c138')\"\n",
              "            title=\"Suggest charts\"\n",
              "            style=\"display:none;\">\n",
              "\n",
              "<svg xmlns=\"http://www.w3.org/2000/svg\" height=\"24px\"viewBox=\"0 0 24 24\"\n",
              "     width=\"24px\">\n",
              "    <g>\n",
              "        <path d=\"M19 3H5c-1.1 0-2 .9-2 2v14c0 1.1.9 2 2 2h14c1.1 0 2-.9 2-2V5c0-1.1-.9-2-2-2zM9 17H7v-7h2v7zm4 0h-2V7h2v10zm4 0h-2v-4h2v4z\"/>\n",
              "    </g>\n",
              "</svg>\n",
              "  </button>\n",
              "\n",
              "<style>\n",
              "  .colab-df-quickchart {\n",
              "      --bg-color: #E8F0FE;\n",
              "      --fill-color: #1967D2;\n",
              "      --hover-bg-color: #E2EBFA;\n",
              "      --hover-fill-color: #174EA6;\n",
              "      --disabled-fill-color: #AAA;\n",
              "      --disabled-bg-color: #DDD;\n",
              "  }\n",
              "\n",
              "  [theme=dark] .colab-df-quickchart {\n",
              "      --bg-color: #3B4455;\n",
              "      --fill-color: #D2E3FC;\n",
              "      --hover-bg-color: #434B5C;\n",
              "      --hover-fill-color: #FFFFFF;\n",
              "      --disabled-bg-color: #3B4455;\n",
              "      --disabled-fill-color: #666;\n",
              "  }\n",
              "\n",
              "  .colab-df-quickchart {\n",
              "    background-color: var(--bg-color);\n",
              "    border: none;\n",
              "    border-radius: 50%;\n",
              "    cursor: pointer;\n",
              "    display: none;\n",
              "    fill: var(--fill-color);\n",
              "    height: 32px;\n",
              "    padding: 0;\n",
              "    width: 32px;\n",
              "  }\n",
              "\n",
              "  .colab-df-quickchart:hover {\n",
              "    background-color: var(--hover-bg-color);\n",
              "    box-shadow: 0 1px 2px rgba(60, 64, 67, 0.3), 0 1px 3px 1px rgba(60, 64, 67, 0.15);\n",
              "    fill: var(--button-hover-fill-color);\n",
              "  }\n",
              "\n",
              "  .colab-df-quickchart-complete:disabled,\n",
              "  .colab-df-quickchart-complete:disabled:hover {\n",
              "    background-color: var(--disabled-bg-color);\n",
              "    fill: var(--disabled-fill-color);\n",
              "    box-shadow: none;\n",
              "  }\n",
              "\n",
              "  .colab-df-spinner {\n",
              "    border: 2px solid var(--fill-color);\n",
              "    border-color: transparent;\n",
              "    border-bottom-color: var(--fill-color);\n",
              "    animation:\n",
              "      spin 1s steps(1) infinite;\n",
              "  }\n",
              "\n",
              "  @keyframes spin {\n",
              "    0% {\n",
              "      border-color: transparent;\n",
              "      border-bottom-color: var(--fill-color);\n",
              "      border-left-color: var(--fill-color);\n",
              "    }\n",
              "    20% {\n",
              "      border-color: transparent;\n",
              "      border-left-color: var(--fill-color);\n",
              "      border-top-color: var(--fill-color);\n",
              "    }\n",
              "    30% {\n",
              "      border-color: transparent;\n",
              "      border-left-color: var(--fill-color);\n",
              "      border-top-color: var(--fill-color);\n",
              "      border-right-color: var(--fill-color);\n",
              "    }\n",
              "    40% {\n",
              "      border-color: transparent;\n",
              "      border-right-color: var(--fill-color);\n",
              "      border-top-color: var(--fill-color);\n",
              "    }\n",
              "    60% {\n",
              "      border-color: transparent;\n",
              "      border-right-color: var(--fill-color);\n",
              "    }\n",
              "    80% {\n",
              "      border-color: transparent;\n",
              "      border-right-color: var(--fill-color);\n",
              "      border-bottom-color: var(--fill-color);\n",
              "    }\n",
              "    90% {\n",
              "      border-color: transparent;\n",
              "      border-bottom-color: var(--fill-color);\n",
              "    }\n",
              "  }\n",
              "</style>\n",
              "\n",
              "  <script>\n",
              "    async function quickchart(key) {\n",
              "      const quickchartButtonEl =\n",
              "        document.querySelector('#' + key + ' button');\n",
              "      quickchartButtonEl.disabled = true;  // To prevent multiple clicks.\n",
              "      quickchartButtonEl.classList.add('colab-df-spinner');\n",
              "      try {\n",
              "        const charts = await google.colab.kernel.invokeFunction(\n",
              "            'suggestCharts', [key], {});\n",
              "      } catch (error) {\n",
              "        console.error('Error during call to suggestCharts:', error);\n",
              "      }\n",
              "      quickchartButtonEl.classList.remove('colab-df-spinner');\n",
              "      quickchartButtonEl.classList.add('colab-df-quickchart-complete');\n",
              "    }\n",
              "    (() => {\n",
              "      let quickchartButtonEl =\n",
              "        document.querySelector('#df-4415950e-1407-4da1-bb67-33e2a736c138 button');\n",
              "      quickchartButtonEl.style.display =\n",
              "        google.colab.kernel.accessAllowed ? 'block' : 'none';\n",
              "    })();\n",
              "  </script>\n",
              "</div>\n",
              "\n",
              "    </div>\n",
              "  </div>\n"
            ],
            "application/vnd.google.colaboratory.intrinsic+json": {
              "type": "dataframe",
              "variable_name": "df_legitimo"
            }
          },
          "metadata": {},
          "execution_count": 3
        }
      ]
    },
    {
      "cell_type": "code",
      "source": [
        "df_legitimo.to_csv(\"dados_legitimos.csv\", index=False, encoding=\"utf-8\")\n",
        "print(\"arquivo salvado\")"
      ],
      "metadata": {
        "id": "sfieyC7WfnRG",
        "outputId": "35451af8-84f9-4cfb-94be-a15397cc2548",
        "colab": {
          "base_uri": "https://localhost:8080/"
        }
      },
      "execution_count": null,
      "outputs": [
        {
          "output_type": "stream",
          "name": "stdout",
          "text": [
            "arquivo salvado\n"
          ]
        }
      ]
    },
    {
      "cell_type": "code",
      "source": [
        "print(df_legitimo['mqtt.dupflag'].value_counts())"
      ],
      "metadata": {
        "colab": {
          "base_uri": "https://localhost:8080/"
        },
        "id": "UkUYBE0pd7AE",
        "outputId": "bb0a3126-4fab-4891-b1fb-789224410dfc"
      },
      "execution_count": null,
      "outputs": [
        {
          "output_type": "stream",
          "name": "stdout",
          "text": [
            "mqtt.dupflag\n",
            "[0]                                                                                           12022\n",
            "[0, 0]                                                                                          406\n",
            "[1, 1, 1, 1, 1, 1, 1, 1, 1, 1, 1, 1, 1, 1, 1, 1, 1]                                             116\n",
            "[1]                                                                                              30\n",
            "[0, 0, 0, 0]                                                                                     24\n",
            "[0, 0, 0, 0, 0]                                                                                  23\n",
            "[0, 0, 0]                                                                                        19\n",
            "[0, 0, 0, 0, 0, 0, 0]                                                                            18\n",
            "[0, 0, 0, 0, 0, 0]                                                                               11\n",
            "[0, 0, 0, 0, 0, 0, 0, 0]                                                                         10\n",
            "[0, 0, 0, 0, 0, 0, 0, 0, 0, 0]                                                                    9\n",
            "[0, 0, 0, 0, 0, 0, 0, 0, 0]                                                                       9\n",
            "[0, 0, 0, 0, 0, 0, 0, 0, 0, 0, 0]                                                                 6\n",
            "[0, 0, 0, 0, 0, 0, 0, 0, 0, 0, 0, 0, 0, 0]                                                        5\n",
            "[0, 0, 0, 0, 0, 0, 0, 0, 0, 0, 0, 0, 0, 0, 0]                                                     5\n",
            "[1, 1, 1, 1, 1, 1, 1]                                                                             5\n",
            "[0, 0, 0, 0, 0, 0, 0, 0, 0, 0, 0, 0, 0, 0, 0, 0, 0]                                               5\n",
            "[0, 0, 0, 0, 0, 0, 0, 0, 0, 0, 0, 0]                                                              5\n",
            "[1, 1, 1, 1, 1, 1, 1, 1]                                                                          4\n",
            "[0, 0, 0, 0, 0, 0, 0, 0, 0, 0, 0, 0, 0, 0, 0, 0]                                                  3\n",
            "[0, 0, 0, 0, 0, 0, 0, 0, 0, 0, 0, 0, 0]                                                           3\n",
            "[1, 1, 1, 1, 1, 1, 1, 1, 1, 1, 1, 1]                                                              3\n",
            "[0, 0, 0, 0, 0, 0, 0, 0, 0, 0, 0, 0, 0, 0, 0, 0, 0, 0, 0, 0, 0, 0, 0]                             2\n",
            "[1, 1, 1, 1, 1, 1, 1, 1, 1, 1]                                                                    2\n",
            "[1, 1, 1, 1, 1, 1, 1, 1, 1, 1, 1]                                                                 2\n",
            "[1, 1, 1, 1, 1, 1, 1, 1, 1, 1, 1, 1, 1]                                                           2\n",
            "[1, 1, 1, 1, 1, 1, 1, 1, 1, 1, 1, 1, 1, 1, 1, 1]                                                  2\n",
            "[0, 0, 0, 0, 0, 0, 0, 0, 0, 0, 0, 0, 0, 0, 0, 0, 0, 0, 0, 0, 0, 0, 0, 0, 0, 0, 0, 0, 0]           2\n",
            "[0, 0, 0, 0, 0, 0, 0, 0, 0, 0, 0, 0, 0, 0, 0, 0, 0, 0, 0, 0, 0, 0, 0, 0, 0, 0, 0, 0, 0, 0]        1\n",
            "[0, 0, 0, 0, 0, 0, 0, 0, 0, 0, 0, 0, 0, 0, 0, 0, 0, 0, 0, 0, 0, 0, 0, 0, 0, 0]                    1\n",
            "[0, 0, 0, 0, 0, 0, 0, 0, 0, 0, 0, 0, 0, 0, 0, 0, 0, 0]                                            1\n",
            "[0, 0, 0, 0, 0, 0, 0, 0, 0, 0, 0, 0, 0, 0, 0, 0, 0, 0, 0, 0]                                      1\n",
            "[0, 0, 0, 0, 0, 0, 0, 0, 0, 0, 0, 0, 0, 0, 0, 0, 0, 0, 0, 0, 0]                                   1\n",
            "[1, 1, 0, 0, 0, 0, 0, 0, 0, 0, 0, 0, 0, 0, 0, 0, 0]                                               1\n",
            "[0, 0, 0, 0, 0, 0, 0, 0, 0, 0, 0, 0, 0, 0, 0, 0, 0, 0, 0]                                         1\n",
            "[1, 1, 1, 1, 1, 1, 1, 1, 1, 1, 1, 1, 1, 1, 1]                                                     1\n",
            "[1, 1]                                                                                            1\n",
            "[1, 1, 1, 1, 1, 1, 1, 1, 1, 1, 1, 1, 1, 1]                                                        1\n",
            "[1, 1, 1, 1, 1, 1, 1, 1, 1]                                                                       1\n",
            "Name: count, dtype: int64\n"
          ]
        }
      ]
    },
    {
      "cell_type": "code",
      "source": [
        "df_legitimo = df_legitimo.applymap(lambda x: x[0] if isinstance(x, list) else x)\n",
        "print(\"executado\")"
      ],
      "metadata": {
        "colab": {
          "base_uri": "https://localhost:8080/"
        },
        "id": "LuYUK8QteYIk",
        "outputId": "b91fc560-a7bd-4550-cefa-61354048751c"
      },
      "execution_count": null,
      "outputs": [
        {
          "output_type": "stream",
          "name": "stderr",
          "text": [
            "<ipython-input-21-4c727b8db9e2>:1: FutureWarning: DataFrame.applymap has been deprecated. Use DataFrame.map instead.\n",
            "  df_legitimo = df_legitimo.applymap(lambda x: x[0] if isinstance(x, list) else x)\n"
          ]
        },
        {
          "output_type": "stream",
          "name": "stdout",
          "text": [
            "executado\n"
          ]
        }
      ]
    },
    {
      "cell_type": "code",
      "source": [
        "'''\n",
        "Ajuste dos dados para pegar só dados legitimos de acordo com o horario que comecei a executar ataques\n",
        "'''\n",
        "\n",
        "# conversao para datetime do pandas\n",
        "from datetime import datetime, time\n",
        "# extrai apenas a parte de hora:minuto:segundos.fração\n",
        "df_legitimo[\"time_only\"] = df_legitimo[\"frame.time\"].str.extract(r'(\\d{2}:\\d{2}:\\d{2}\\.\\d{6})') # aqui ele limita para 6 digitos, o q o pandas suporta\n",
        "\n",
        "# converte para datetime.time para facilitar comparação\n",
        "df_legitimo[\"time_only\"] = df_legitimo[\"time_only\"].apply(lambda x: datetime.strptime(x, \"%H:%M:%S.%f\").time())\n",
        "display(df_legitimo['time_only'][1:5])"
      ],
      "metadata": {
        "colab": {
          "base_uri": "https://localhost:8080/",
          "height": 209
        },
        "id": "m14YQGqDeowd",
        "outputId": "7a86230f-3be8-47ac-9145-2a829df394c8"
      },
      "execution_count": null,
      "outputs": [
        {
          "output_type": "display_data",
          "data": {
            "text/plain": [
              "1    19:33:47.954154\n",
              "2    19:33:47.954164\n",
              "3    19:33:47.969879\n",
              "4    19:33:47.969947\n",
              "Name: time_only, dtype: object"
            ],
            "text/html": [
              "<div>\n",
              "<style scoped>\n",
              "    .dataframe tbody tr th:only-of-type {\n",
              "        vertical-align: middle;\n",
              "    }\n",
              "\n",
              "    .dataframe tbody tr th {\n",
              "        vertical-align: top;\n",
              "    }\n",
              "\n",
              "    .dataframe thead th {\n",
              "        text-align: right;\n",
              "    }\n",
              "</style>\n",
              "<table border=\"1\" class=\"dataframe\">\n",
              "  <thead>\n",
              "    <tr style=\"text-align: right;\">\n",
              "      <th></th>\n",
              "      <th>time_only</th>\n",
              "    </tr>\n",
              "  </thead>\n",
              "  <tbody>\n",
              "    <tr>\n",
              "      <th>1</th>\n",
              "      <td>19:33:47.954154</td>\n",
              "    </tr>\n",
              "    <tr>\n",
              "      <th>2</th>\n",
              "      <td>19:33:47.954164</td>\n",
              "    </tr>\n",
              "    <tr>\n",
              "      <th>3</th>\n",
              "      <td>19:33:47.969879</td>\n",
              "    </tr>\n",
              "    <tr>\n",
              "      <th>4</th>\n",
              "      <td>19:33:47.969947</td>\n",
              "    </tr>\n",
              "  </tbody>\n",
              "</table>\n",
              "</div><br><label><b>dtype:</b> object</label>"
            ]
          },
          "metadata": {}
        }
      ]
    },
    {
      "cell_type": "code",
      "source": [
        "# ajuste\n",
        "\n",
        "df_legitimo = df_legitimo[df_legitimo[\"time_only\"] <= time(19, 40, 0)] # horario antes do ataque iniciar\n",
        "\n",
        "print(df_legitimo[\"time_only\"].min())\n",
        "print(df_legitimo[\"time_only\"].max())"
      ],
      "metadata": {
        "colab": {
          "base_uri": "https://localhost:8080/"
        },
        "id": "CaT9gq1jgh63",
        "outputId": "22acf396-9455-4efd-ebaa-a64d0acc7894"
      },
      "execution_count": null,
      "outputs": [
        {
          "output_type": "stream",
          "name": "stdout",
          "text": [
            "19:33:47.877963\n",
            "19:39:59.972028\n"
          ]
        }
      ]
    },
    {
      "cell_type": "code",
      "source": [
        "df_legitimo.shape"
      ],
      "metadata": {
        "colab": {
          "base_uri": "https://localhost:8080/"
        },
        "id": "d48PkCtGhg_R",
        "outputId": "12618573-13a8-467b-d6e0-86f4a6e99f3b"
      },
      "execution_count": null,
      "outputs": [
        {
          "output_type": "execute_result",
          "data": {
            "text/plain": [
              "(48584, 25)"
            ]
          },
          "metadata": {},
          "execution_count": 24
        }
      ]
    },
    {
      "cell_type": "code",
      "source": [
        "# verifica se existe algum caso onde mqtt.msgtype não é NaN, mas mqtt.hdrflags é NaN\n",
        "inconsistencias = df_legitimo[df_legitimo['mqtt.msgtype'].notna() & df_legitimo['mqtt.hdrflags'].isna()]\n",
        "print(inconsistencias.shape)\n",
        "\n",
        "# verifica se existe algum caso onde mqtt.hdrflags não é NaN, mas mqtt.msgtype é NaN\n",
        "inconsistencias_inversas = df_legitimo[df_legitimo['mqtt.hdrflags'].notna() & df_legitimo['mqtt.msgtype'].isna()]\n",
        "print(inconsistencias_inversas.shape)"
      ],
      "metadata": {
        "colab": {
          "base_uri": "https://localhost:8080/"
        },
        "id": "IBaKnfJNhlaH",
        "outputId": "afe9ddad-394c-4c7b-e832-bd3c16ac2cfd"
      },
      "execution_count": null,
      "outputs": [
        {
          "output_type": "stream",
          "name": "stdout",
          "text": [
            "(0, 25)\n",
            "(0, 25)\n"
          ]
        }
      ]
    },
    {
      "cell_type": "code",
      "source": [
        "# verifica se, quando 'mqtt.msgtype' ou 'mqtt.hdrflags' for NaN, outras colunas também serão NaN\n",
        "cols_to_check = ['mqtt.len', 'mqtt.msgid', 'mqtt.dupflag', 'mqtt.msg', 'mqtt.qos']\n",
        "inconsistencias = df_legitimo[df_legitimo['mqtt.msgtype'].isna() | df_legitimo['mqtt.hdrflags'].isna()][cols_to_check].notna().sum()\n",
        "print(inconsistencias)"
      ],
      "metadata": {
        "colab": {
          "base_uri": "https://localhost:8080/"
        },
        "id": "yIu2rZ9_iLNx",
        "outputId": "708ec9f7-b2af-4a22-b1e7-5b39a24227cf"
      },
      "execution_count": null,
      "outputs": [
        {
          "output_type": "stream",
          "name": "stdout",
          "text": [
            "mqtt.len        0\n",
            "mqtt.msgid      0\n",
            "mqtt.dupflag    0\n",
            "mqtt.msg        0\n",
            "mqtt.qos        0\n",
            "dtype: int64\n"
          ]
        }
      ]
    },
    {
      "cell_type": "code",
      "source": [
        "# arquivo final\n",
        "\n",
        "df_final_legitimo = df_legitimo.dropna(subset=['mqtt.msgtype', 'mqtt.hdrflags'])\n",
        "\n",
        "print(\"Dataframe capturado: \")\n",
        "print(df_legitimo.shape)\n",
        "print(\"Dataframe ajustado: \")\n",
        "print(df_final_legitimo.shape)"
      ],
      "metadata": {
        "colab": {
          "base_uri": "https://localhost:8080/"
        },
        "id": "GXC4_OlHiurO",
        "outputId": "1b699359-e353-4fcc-daf6-44d05c22e38e"
      },
      "execution_count": null,
      "outputs": [
        {
          "output_type": "stream",
          "name": "stdout",
          "text": [
            "Dataframe capturado: \n",
            "(48584, 25)\n",
            "Dataframe ajustado: \n",
            "(12478, 25)\n"
          ]
        }
      ]
    },
    {
      "cell_type": "code",
      "source": [
        "# rotulaçao\n",
        "df_final_legitimo['label'] = 0\n",
        "print(df_final_legitimo.keys())"
      ],
      "metadata": {
        "colab": {
          "base_uri": "https://localhost:8080/"
        },
        "id": "fnDlBlK4i8CA",
        "outputId": "442d179c-4786-4e75-f670-e934d27774ef"
      },
      "execution_count": null,
      "outputs": [
        {
          "output_type": "stream",
          "name": "stdout",
          "text": [
            "Index(['frame.time_relative', 'frame.time_epoch', 'frame.time', 'ip.src',\n",
            "       'ip.dst', 'tcp.stream', 'tcp.seq', 'tcp.srcport', 'tcp.dstport',\n",
            "       'tcp.len', 'tcp.flags', 'tcp.flags.ack', 'tcp.flags.syn',\n",
            "       'tcp.flags.fin', 'tcp.flags.urg', 'tcp.time_delta',\n",
            "       'tcp.window_size_value', 'mqtt.msgtype', 'mqtt.dupflag',\n",
            "       'mqtt.hdrflags', 'mqtt.len', 'mqtt.msg', 'mqtt.qos', 'mqtt.msgid',\n",
            "       'time_only', 'label'],\n",
            "      dtype='object')\n"
          ]
        },
        {
          "output_type": "stream",
          "name": "stderr",
          "text": [
            "<ipython-input-28-e2d4f8734ca2>:2: SettingWithCopyWarning: \n",
            "A value is trying to be set on a copy of a slice from a DataFrame.\n",
            "Try using .loc[row_indexer,col_indexer] = value instead\n",
            "\n",
            "See the caveats in the documentation: https://pandas.pydata.org/pandas-docs/stable/user_guide/indexing.html#returning-a-view-versus-a-copy\n",
            "  df_final_legitimo['label'] = 0\n"
          ]
        }
      ]
    },
    {
      "cell_type": "markdown",
      "source": [
        "# **Tratamento de dados geral**"
      ],
      "metadata": {
        "id": "zQObgagpjXGF"
      }
    },
    {
      "cell_type": "code",
      "source": [
        "'''\n",
        "Ajuste dos nomes dos arquivos\n",
        "'''\n",
        "\n",
        "legitimo = df_final_legitimo\n",
        "malicioso = df_final\n",
        "\n",
        "print(legitimo.shape)\n",
        "print(malicioso.shape)"
      ],
      "metadata": {
        "colab": {
          "base_uri": "https://localhost:8080/"
        },
        "id": "hWUoYS4HjbaL",
        "outputId": "cda2792a-0c01-462a-eaed-3e1717424113"
      },
      "execution_count": null,
      "outputs": [
        {
          "output_type": "stream",
          "name": "stdout",
          "text": [
            "(12478, 26)\n",
            "(16918, 25)\n"
          ]
        }
      ]
    },
    {
      "cell_type": "code",
      "source": [
        "# mistura do arquivo malicioso\n",
        "# o arquivo precisa ser misturado porque foram usadas duas ferramentas para executar o ataque\n",
        "\n",
        "from sklearn.model_selection import train_test_split\n",
        "\n",
        "one, two = train_test_split(malicioso, test_size=0.33, shuffle=True, random_state=42)\n",
        "# uniao dos arquivos misturados\n",
        "malicioso = pd.concat([one, two], ignore_index=True)\n",
        "\n",
        "malicioso.head()"
      ],
      "metadata": {
        "colab": {
          "base_uri": "https://localhost:8080/",
          "height": 429
        },
        "id": "HWNIxDOFlsI8",
        "outputId": "41a38bf8-5b6c-4624-b6c9-7ec06a00d05c"
      },
      "execution_count": null,
      "outputs": [
        {
          "output_type": "execute_result",
          "data": {
            "text/plain": [
              "  frame.time_relative      frame.time_epoch  \\\n",
              "0       153.041081116  1742315565.088914555   \n",
              "1        91.915419641  1742315503.963253080   \n",
              "2       157.024419866  1742315569.072253305   \n",
              "3       166.504555124  1742315578.552388563   \n",
              "4        59.139379184  1742315471.187212623   \n",
              "\n",
              "                            frame.time     ip.src       ip.dst tcp.stream  \\\n",
              "0  Mar 18, 2025 12:32:45.088914555 -04  10.42.0.1  10.42.0.201       1099   \n",
              "1  Mar 18, 2025 12:31:43.963253080 -04  10.42.0.1  10.42.0.201         77   \n",
              "2  Mar 18, 2025 12:32:49.072253305 -04  10.42.0.1  10.42.0.201       1105   \n",
              "3  Mar 18, 2025 12:32:58.552388563 -04  10.42.0.1  10.42.0.201       1102   \n",
              "4  Mar 18, 2025 12:31:11.187212623 -04  10.42.0.1  10.42.0.201        321   \n",
              "\n",
              "   tcp.seq tcp.srcport tcp.dstport tcp.len  ... tcp.time_delta  \\\n",
              "0     1261        1883       64505       4  ...    0.000013438   \n",
              "1  5248321        1883       64531    1152  ...    0.000029115   \n",
              "2     3401        1883       59099      36  ...    0.000032347   \n",
              "3    19277        1883       59097      32  ...    0.000748614   \n",
              "4        1        1883       64857       5  ...    0.001631287   \n",
              "\n",
              "  tcp.window_size_value mqtt.msgtype mqtt.hdrflags mqtt.len mqtt.msgid  \\\n",
              "0                   462            4          0x40        2        315   \n",
              "1                   509            3          0x30  5242907        NaN   \n",
              "2                   312            4          0x40        2        850   \n",
              "3                   741            4          0x40        2       4819   \n",
              "4                   509            2          0x20        3        NaN   \n",
              "\n",
              "  mqtt.dupflag                                           mqtt.msg mqtt.qos  \\\n",
              "0          NaN                                                NaN      NaN   \n",
              "1            0  3030303030303030303030303030303030303030303030...        0   \n",
              "2          NaN                                                NaN      NaN   \n",
              "3          NaN                                                NaN      NaN   \n",
              "4          NaN                                                NaN      NaN   \n",
              "\n",
              "  label  \n",
              "0     1  \n",
              "1     1  \n",
              "2     1  \n",
              "3     1  \n",
              "4     1  \n",
              "\n",
              "[5 rows x 25 columns]"
            ],
            "text/html": [
              "\n",
              "  <div id=\"df-92bbd20f-1d31-4c17-8814-7b9492d35e99\" class=\"colab-df-container\">\n",
              "    <div>\n",
              "<style scoped>\n",
              "    .dataframe tbody tr th:only-of-type {\n",
              "        vertical-align: middle;\n",
              "    }\n",
              "\n",
              "    .dataframe tbody tr th {\n",
              "        vertical-align: top;\n",
              "    }\n",
              "\n",
              "    .dataframe thead th {\n",
              "        text-align: right;\n",
              "    }\n",
              "</style>\n",
              "<table border=\"1\" class=\"dataframe\">\n",
              "  <thead>\n",
              "    <tr style=\"text-align: right;\">\n",
              "      <th></th>\n",
              "      <th>frame.time_relative</th>\n",
              "      <th>frame.time_epoch</th>\n",
              "      <th>frame.time</th>\n",
              "      <th>ip.src</th>\n",
              "      <th>ip.dst</th>\n",
              "      <th>tcp.stream</th>\n",
              "      <th>tcp.seq</th>\n",
              "      <th>tcp.srcport</th>\n",
              "      <th>tcp.dstport</th>\n",
              "      <th>tcp.len</th>\n",
              "      <th>...</th>\n",
              "      <th>tcp.time_delta</th>\n",
              "      <th>tcp.window_size_value</th>\n",
              "      <th>mqtt.msgtype</th>\n",
              "      <th>mqtt.hdrflags</th>\n",
              "      <th>mqtt.len</th>\n",
              "      <th>mqtt.msgid</th>\n",
              "      <th>mqtt.dupflag</th>\n",
              "      <th>mqtt.msg</th>\n",
              "      <th>mqtt.qos</th>\n",
              "      <th>label</th>\n",
              "    </tr>\n",
              "  </thead>\n",
              "  <tbody>\n",
              "    <tr>\n",
              "      <th>0</th>\n",
              "      <td>153.041081116</td>\n",
              "      <td>1742315565.088914555</td>\n",
              "      <td>Mar 18, 2025 12:32:45.088914555 -04</td>\n",
              "      <td>10.42.0.1</td>\n",
              "      <td>10.42.0.201</td>\n",
              "      <td>1099</td>\n",
              "      <td>1261</td>\n",
              "      <td>1883</td>\n",
              "      <td>64505</td>\n",
              "      <td>4</td>\n",
              "      <td>...</td>\n",
              "      <td>0.000013438</td>\n",
              "      <td>462</td>\n",
              "      <td>4</td>\n",
              "      <td>0x40</td>\n",
              "      <td>2</td>\n",
              "      <td>315</td>\n",
              "      <td>NaN</td>\n",
              "      <td>NaN</td>\n",
              "      <td>NaN</td>\n",
              "      <td>1</td>\n",
              "    </tr>\n",
              "    <tr>\n",
              "      <th>1</th>\n",
              "      <td>91.915419641</td>\n",
              "      <td>1742315503.963253080</td>\n",
              "      <td>Mar 18, 2025 12:31:43.963253080 -04</td>\n",
              "      <td>10.42.0.1</td>\n",
              "      <td>10.42.0.201</td>\n",
              "      <td>77</td>\n",
              "      <td>5248321</td>\n",
              "      <td>1883</td>\n",
              "      <td>64531</td>\n",
              "      <td>1152</td>\n",
              "      <td>...</td>\n",
              "      <td>0.000029115</td>\n",
              "      <td>509</td>\n",
              "      <td>3</td>\n",
              "      <td>0x30</td>\n",
              "      <td>5242907</td>\n",
              "      <td>NaN</td>\n",
              "      <td>0</td>\n",
              "      <td>3030303030303030303030303030303030303030303030...</td>\n",
              "      <td>0</td>\n",
              "      <td>1</td>\n",
              "    </tr>\n",
              "    <tr>\n",
              "      <th>2</th>\n",
              "      <td>157.024419866</td>\n",
              "      <td>1742315569.072253305</td>\n",
              "      <td>Mar 18, 2025 12:32:49.072253305 -04</td>\n",
              "      <td>10.42.0.1</td>\n",
              "      <td>10.42.0.201</td>\n",
              "      <td>1105</td>\n",
              "      <td>3401</td>\n",
              "      <td>1883</td>\n",
              "      <td>59099</td>\n",
              "      <td>36</td>\n",
              "      <td>...</td>\n",
              "      <td>0.000032347</td>\n",
              "      <td>312</td>\n",
              "      <td>4</td>\n",
              "      <td>0x40</td>\n",
              "      <td>2</td>\n",
              "      <td>850</td>\n",
              "      <td>NaN</td>\n",
              "      <td>NaN</td>\n",
              "      <td>NaN</td>\n",
              "      <td>1</td>\n",
              "    </tr>\n",
              "    <tr>\n",
              "      <th>3</th>\n",
              "      <td>166.504555124</td>\n",
              "      <td>1742315578.552388563</td>\n",
              "      <td>Mar 18, 2025 12:32:58.552388563 -04</td>\n",
              "      <td>10.42.0.1</td>\n",
              "      <td>10.42.0.201</td>\n",
              "      <td>1102</td>\n",
              "      <td>19277</td>\n",
              "      <td>1883</td>\n",
              "      <td>59097</td>\n",
              "      <td>32</td>\n",
              "      <td>...</td>\n",
              "      <td>0.000748614</td>\n",
              "      <td>741</td>\n",
              "      <td>4</td>\n",
              "      <td>0x40</td>\n",
              "      <td>2</td>\n",
              "      <td>4819</td>\n",
              "      <td>NaN</td>\n",
              "      <td>NaN</td>\n",
              "      <td>NaN</td>\n",
              "      <td>1</td>\n",
              "    </tr>\n",
              "    <tr>\n",
              "      <th>4</th>\n",
              "      <td>59.139379184</td>\n",
              "      <td>1742315471.187212623</td>\n",
              "      <td>Mar 18, 2025 12:31:11.187212623 -04</td>\n",
              "      <td>10.42.0.1</td>\n",
              "      <td>10.42.0.201</td>\n",
              "      <td>321</td>\n",
              "      <td>1</td>\n",
              "      <td>1883</td>\n",
              "      <td>64857</td>\n",
              "      <td>5</td>\n",
              "      <td>...</td>\n",
              "      <td>0.001631287</td>\n",
              "      <td>509</td>\n",
              "      <td>2</td>\n",
              "      <td>0x20</td>\n",
              "      <td>3</td>\n",
              "      <td>NaN</td>\n",
              "      <td>NaN</td>\n",
              "      <td>NaN</td>\n",
              "      <td>NaN</td>\n",
              "      <td>1</td>\n",
              "    </tr>\n",
              "  </tbody>\n",
              "</table>\n",
              "<p>5 rows × 25 columns</p>\n",
              "</div>\n",
              "    <div class=\"colab-df-buttons\">\n",
              "\n",
              "  <div class=\"colab-df-container\">\n",
              "    <button class=\"colab-df-convert\" onclick=\"convertToInteractive('df-92bbd20f-1d31-4c17-8814-7b9492d35e99')\"\n",
              "            title=\"Convert this dataframe to an interactive table.\"\n",
              "            style=\"display:none;\">\n",
              "\n",
              "  <svg xmlns=\"http://www.w3.org/2000/svg\" height=\"24px\" viewBox=\"0 -960 960 960\">\n",
              "    <path d=\"M120-120v-720h720v720H120Zm60-500h600v-160H180v160Zm220 220h160v-160H400v160Zm0 220h160v-160H400v160ZM180-400h160v-160H180v160Zm440 0h160v-160H620v160ZM180-180h160v-160H180v160Zm440 0h160v-160H620v160Z\"/>\n",
              "  </svg>\n",
              "    </button>\n",
              "\n",
              "  <style>\n",
              "    .colab-df-container {\n",
              "      display:flex;\n",
              "      gap: 12px;\n",
              "    }\n",
              "\n",
              "    .colab-df-convert {\n",
              "      background-color: #E8F0FE;\n",
              "      border: none;\n",
              "      border-radius: 50%;\n",
              "      cursor: pointer;\n",
              "      display: none;\n",
              "      fill: #1967D2;\n",
              "      height: 32px;\n",
              "      padding: 0 0 0 0;\n",
              "      width: 32px;\n",
              "    }\n",
              "\n",
              "    .colab-df-convert:hover {\n",
              "      background-color: #E2EBFA;\n",
              "      box-shadow: 0px 1px 2px rgba(60, 64, 67, 0.3), 0px 1px 3px 1px rgba(60, 64, 67, 0.15);\n",
              "      fill: #174EA6;\n",
              "    }\n",
              "\n",
              "    .colab-df-buttons div {\n",
              "      margin-bottom: 4px;\n",
              "    }\n",
              "\n",
              "    [theme=dark] .colab-df-convert {\n",
              "      background-color: #3B4455;\n",
              "      fill: #D2E3FC;\n",
              "    }\n",
              "\n",
              "    [theme=dark] .colab-df-convert:hover {\n",
              "      background-color: #434B5C;\n",
              "      box-shadow: 0px 1px 3px 1px rgba(0, 0, 0, 0.15);\n",
              "      filter: drop-shadow(0px 1px 2px rgba(0, 0, 0, 0.3));\n",
              "      fill: #FFFFFF;\n",
              "    }\n",
              "  </style>\n",
              "\n",
              "    <script>\n",
              "      const buttonEl =\n",
              "        document.querySelector('#df-92bbd20f-1d31-4c17-8814-7b9492d35e99 button.colab-df-convert');\n",
              "      buttonEl.style.display =\n",
              "        google.colab.kernel.accessAllowed ? 'block' : 'none';\n",
              "\n",
              "      async function convertToInteractive(key) {\n",
              "        const element = document.querySelector('#df-92bbd20f-1d31-4c17-8814-7b9492d35e99');\n",
              "        const dataTable =\n",
              "          await google.colab.kernel.invokeFunction('convertToInteractive',\n",
              "                                                    [key], {});\n",
              "        if (!dataTable) return;\n",
              "\n",
              "        const docLinkHtml = 'Like what you see? Visit the ' +\n",
              "          '<a target=\"_blank\" href=https://colab.research.google.com/notebooks/data_table.ipynb>data table notebook</a>'\n",
              "          + ' to learn more about interactive tables.';\n",
              "        element.innerHTML = '';\n",
              "        dataTable['output_type'] = 'display_data';\n",
              "        await google.colab.output.renderOutput(dataTable, element);\n",
              "        const docLink = document.createElement('div');\n",
              "        docLink.innerHTML = docLinkHtml;\n",
              "        element.appendChild(docLink);\n",
              "      }\n",
              "    </script>\n",
              "  </div>\n",
              "\n",
              "\n",
              "<div id=\"df-c9a50722-93d9-4b1f-8006-cf5c90e5f7da\">\n",
              "  <button class=\"colab-df-quickchart\" onclick=\"quickchart('df-c9a50722-93d9-4b1f-8006-cf5c90e5f7da')\"\n",
              "            title=\"Suggest charts\"\n",
              "            style=\"display:none;\">\n",
              "\n",
              "<svg xmlns=\"http://www.w3.org/2000/svg\" height=\"24px\"viewBox=\"0 0 24 24\"\n",
              "     width=\"24px\">\n",
              "    <g>\n",
              "        <path d=\"M19 3H5c-1.1 0-2 .9-2 2v14c0 1.1.9 2 2 2h14c1.1 0 2-.9 2-2V5c0-1.1-.9-2-2-2zM9 17H7v-7h2v7zm4 0h-2V7h2v10zm4 0h-2v-4h2v4z\"/>\n",
              "    </g>\n",
              "</svg>\n",
              "  </button>\n",
              "\n",
              "<style>\n",
              "  .colab-df-quickchart {\n",
              "      --bg-color: #E8F0FE;\n",
              "      --fill-color: #1967D2;\n",
              "      --hover-bg-color: #E2EBFA;\n",
              "      --hover-fill-color: #174EA6;\n",
              "      --disabled-fill-color: #AAA;\n",
              "      --disabled-bg-color: #DDD;\n",
              "  }\n",
              "\n",
              "  [theme=dark] .colab-df-quickchart {\n",
              "      --bg-color: #3B4455;\n",
              "      --fill-color: #D2E3FC;\n",
              "      --hover-bg-color: #434B5C;\n",
              "      --hover-fill-color: #FFFFFF;\n",
              "      --disabled-bg-color: #3B4455;\n",
              "      --disabled-fill-color: #666;\n",
              "  }\n",
              "\n",
              "  .colab-df-quickchart {\n",
              "    background-color: var(--bg-color);\n",
              "    border: none;\n",
              "    border-radius: 50%;\n",
              "    cursor: pointer;\n",
              "    display: none;\n",
              "    fill: var(--fill-color);\n",
              "    height: 32px;\n",
              "    padding: 0;\n",
              "    width: 32px;\n",
              "  }\n",
              "\n",
              "  .colab-df-quickchart:hover {\n",
              "    background-color: var(--hover-bg-color);\n",
              "    box-shadow: 0 1px 2px rgba(60, 64, 67, 0.3), 0 1px 3px 1px rgba(60, 64, 67, 0.15);\n",
              "    fill: var(--button-hover-fill-color);\n",
              "  }\n",
              "\n",
              "  .colab-df-quickchart-complete:disabled,\n",
              "  .colab-df-quickchart-complete:disabled:hover {\n",
              "    background-color: var(--disabled-bg-color);\n",
              "    fill: var(--disabled-fill-color);\n",
              "    box-shadow: none;\n",
              "  }\n",
              "\n",
              "  .colab-df-spinner {\n",
              "    border: 2px solid var(--fill-color);\n",
              "    border-color: transparent;\n",
              "    border-bottom-color: var(--fill-color);\n",
              "    animation:\n",
              "      spin 1s steps(1) infinite;\n",
              "  }\n",
              "\n",
              "  @keyframes spin {\n",
              "    0% {\n",
              "      border-color: transparent;\n",
              "      border-bottom-color: var(--fill-color);\n",
              "      border-left-color: var(--fill-color);\n",
              "    }\n",
              "    20% {\n",
              "      border-color: transparent;\n",
              "      border-left-color: var(--fill-color);\n",
              "      border-top-color: var(--fill-color);\n",
              "    }\n",
              "    30% {\n",
              "      border-color: transparent;\n",
              "      border-left-color: var(--fill-color);\n",
              "      border-top-color: var(--fill-color);\n",
              "      border-right-color: var(--fill-color);\n",
              "    }\n",
              "    40% {\n",
              "      border-color: transparent;\n",
              "      border-right-color: var(--fill-color);\n",
              "      border-top-color: var(--fill-color);\n",
              "    }\n",
              "    60% {\n",
              "      border-color: transparent;\n",
              "      border-right-color: var(--fill-color);\n",
              "    }\n",
              "    80% {\n",
              "      border-color: transparent;\n",
              "      border-right-color: var(--fill-color);\n",
              "      border-bottom-color: var(--fill-color);\n",
              "    }\n",
              "    90% {\n",
              "      border-color: transparent;\n",
              "      border-bottom-color: var(--fill-color);\n",
              "    }\n",
              "  }\n",
              "</style>\n",
              "\n",
              "  <script>\n",
              "    async function quickchart(key) {\n",
              "      const quickchartButtonEl =\n",
              "        document.querySelector('#' + key + ' button');\n",
              "      quickchartButtonEl.disabled = true;  // To prevent multiple clicks.\n",
              "      quickchartButtonEl.classList.add('colab-df-spinner');\n",
              "      try {\n",
              "        const charts = await google.colab.kernel.invokeFunction(\n",
              "            'suggestCharts', [key], {});\n",
              "      } catch (error) {\n",
              "        console.error('Error during call to suggestCharts:', error);\n",
              "      }\n",
              "      quickchartButtonEl.classList.remove('colab-df-spinner');\n",
              "      quickchartButtonEl.classList.add('colab-df-quickchart-complete');\n",
              "    }\n",
              "    (() => {\n",
              "      let quickchartButtonEl =\n",
              "        document.querySelector('#df-c9a50722-93d9-4b1f-8006-cf5c90e5f7da button');\n",
              "      quickchartButtonEl.style.display =\n",
              "        google.colab.kernel.accessAllowed ? 'block' : 'none';\n",
              "    })();\n",
              "  </script>\n",
              "</div>\n",
              "\n",
              "    </div>\n",
              "  </div>\n"
            ],
            "application/vnd.google.colaboratory.intrinsic+json": {
              "type": "dataframe",
              "variable_name": "malicioso"
            }
          },
          "metadata": {},
          "execution_count": 30
        }
      ]
    },
    {
      "cell_type": "code",
      "source": [
        "malicioso.keys()"
      ],
      "metadata": {
        "colab": {
          "base_uri": "https://localhost:8080/"
        },
        "id": "tAIAN8OZl4M_",
        "outputId": "8d192bbe-4656-48c2-dd7c-b352d1ecd690"
      },
      "execution_count": null,
      "outputs": [
        {
          "output_type": "execute_result",
          "data": {
            "text/plain": [
              "Index(['frame.time_relative', 'frame.time_epoch', 'frame.time', 'ip.src',\n",
              "       'ip.dst', 'tcp.stream', 'tcp.seq', 'tcp.srcport', 'tcp.dstport',\n",
              "       'tcp.len', 'tcp.flags', 'tcp.flags.ack', 'tcp.flags.syn',\n",
              "       'tcp.flags.fin', 'tcp.flags.urg', 'tcp.time_delta',\n",
              "       'tcp.window_size_value', 'mqtt.msgtype', 'mqtt.hdrflags', 'mqtt.len',\n",
              "       'mqtt.msgid', 'mqtt.dupflag', 'mqtt.msg', 'mqtt.qos', 'label'],\n",
              "      dtype='object')"
            ]
          },
          "metadata": {},
          "execution_count": 31
        }
      ]
    },
    {
      "cell_type": "code",
      "source": [
        "legitimo.keys()"
      ],
      "metadata": {
        "colab": {
          "base_uri": "https://localhost:8080/"
        },
        "id": "wRLDPQOemynF",
        "outputId": "c673dfb4-6ad7-49ef-abd2-fca639794813"
      },
      "execution_count": null,
      "outputs": [
        {
          "output_type": "execute_result",
          "data": {
            "text/plain": [
              "Index(['frame.time_relative', 'frame.time_epoch', 'frame.time', 'ip.src',\n",
              "       'ip.dst', 'tcp.stream', 'tcp.seq', 'tcp.srcport', 'tcp.dstport',\n",
              "       'tcp.len', 'tcp.flags', 'tcp.flags.ack', 'tcp.flags.syn',\n",
              "       'tcp.flags.fin', 'tcp.flags.urg', 'tcp.time_delta',\n",
              "       'tcp.window_size_value', 'mqtt.msgtype', 'mqtt.dupflag',\n",
              "       'mqtt.hdrflags', 'mqtt.len', 'mqtt.msg', 'mqtt.qos', 'mqtt.msgid',\n",
              "       'time_only', 'label'],\n",
              "      dtype='object')"
            ]
          },
          "metadata": {},
          "execution_count": 32
        }
      ]
    },
    {
      "cell_type": "code",
      "source": [
        "# exclusão das colunas irrelevantes\n",
        "\n",
        "col_legitimo = ['frame.time_relative', 'frame.time_epoch', 'frame.time', 'ip.src',\n",
        " 'ip.dst', 'tcp.stream', 'tcp.seq', 'tcp.srcport', 'tcp.dstport',\n",
        " 'tcp.window_size_value', 'mqtt.msg', 'time_only']\n",
        "\n",
        "col_malicioso = ['frame.time_relative', 'frame.time_epoch', 'frame.time', 'ip.src',\n",
        " 'ip.dst', 'tcp.stream', 'tcp.seq', 'tcp.srcport', 'tcp.dstport',\n",
        " 'tcp.window_size_value', 'mqtt.msg']\n",
        "\n",
        "legitimo = legitimo.drop(col_legitimo, axis=1)\n",
        "malicioso = malicioso.drop(col_malicioso, axis=1)\n",
        "\n",
        "print(legitimo.shape)\n",
        "print(malicioso.shape)"
      ],
      "metadata": {
        "colab": {
          "base_uri": "https://localhost:8080/"
        },
        "id": "GvMB0TkWl-gF",
        "outputId": "d5902325-83e0-4f33-ce2f-bbcacef513d9"
      },
      "execution_count": null,
      "outputs": [
        {
          "output_type": "stream",
          "name": "stdout",
          "text": [
            "(12478, 14)\n",
            "(16918, 14)\n"
          ]
        }
      ]
    },
    {
      "cell_type": "code",
      "source": [
        "'''\n",
        "BALANCEAMENTO\n",
        "'''\n",
        "\n",
        "data_df = pd.concat([legitimo, malicioso], ignore_index=True)\n",
        "\n",
        "def create_balanced_dataset(df):\n",
        "    num_spam = df[df['label'] == 0].shape[0] # Pegar quantidade de dados do legitimo\n",
        "    spam_df = df[df['label'] == 0].copy() # Os dados do legitimo\n",
        "\n",
        "    ham_df = df[df['label'] == 1].sample(num_spam, random_state=123) # Pegar os dados do malicioso\n",
        "    return pd.concat([ham_df, spam_df]) # retorna dois dataframes concatenados\n",
        "\n",
        "data = create_balanced_dataset(data_df) # dado balanceado contendo legitimo\n",
        "\n",
        "print(data.shape)\n",
        "print(data.keys())"
      ],
      "metadata": {
        "colab": {
          "base_uri": "https://localhost:8080/"
        },
        "id": "5UveBYLNn6cA",
        "outputId": "0ee094ba-0bb0-4ad2-ae70-fa6cca7711aa"
      },
      "execution_count": null,
      "outputs": [
        {
          "output_type": "stream",
          "name": "stdout",
          "text": [
            "(24956, 14)\n",
            "Index(['tcp.len', 'tcp.flags', 'tcp.flags.ack', 'tcp.flags.syn',\n",
            "       'tcp.flags.fin', 'tcp.flags.urg', 'tcp.time_delta', 'mqtt.msgtype',\n",
            "       'mqtt.dupflag', 'mqtt.hdrflags', 'mqtt.len', 'mqtt.qos', 'mqtt.msgid',\n",
            "       'label'],\n",
            "      dtype='object')\n"
          ]
        }
      ]
    },
    {
      "cell_type": "code",
      "source": [
        "print(data['label'].value_counts())"
      ],
      "metadata": {
        "colab": {
          "base_uri": "https://localhost:8080/"
        },
        "id": "yj5KheIKowI1",
        "outputId": "255e2ab0-4c60-45d0-a7ef-67d8ebbf8dab"
      },
      "execution_count": null,
      "outputs": [
        {
          "output_type": "stream",
          "name": "stdout",
          "text": [
            "label\n",
            "1    12478\n",
            "0    12478\n",
            "Name: count, dtype: int64\n"
          ]
        }
      ]
    },
    {
      "cell_type": "code",
      "source": [
        "# dados NaN\n",
        "data = data.fillna(0)\n",
        "print(\"executado\")"
      ],
      "metadata": {
        "colab": {
          "base_uri": "https://localhost:8080/"
        },
        "id": "E3QpuijBqZ4P",
        "outputId": "c2cc8484-f84f-4587-87ef-5f9f498b2d80"
      },
      "execution_count": null,
      "outputs": [
        {
          "output_type": "stream",
          "name": "stdout",
          "text": [
            "executado\n"
          ]
        }
      ]
    },
    {
      "cell_type": "code",
      "source": [
        "'''\n",
        "TRATAMENTO DE FEATURES NAO NUMERICAS\n",
        "'''"
      ],
      "metadata": {
        "colab": {
          "base_uri": "https://localhost:8080/",
          "height": 36
        },
        "id": "BllSGwTMo4Xp",
        "outputId": "9a799e4d-b0f5-4f41-f673-3a7d39ea79de"
      },
      "execution_count": null,
      "outputs": [
        {
          "output_type": "execute_result",
          "data": {
            "text/plain": [
              "'\\nTRATAMENTO DE FEATURES NAO NUMERICAS\\n'"
            ],
            "application/vnd.google.colaboratory.intrinsic+json": {
              "type": "string"
            }
          },
          "metadata": {},
          "execution_count": 37
        }
      ]
    },
    {
      "cell_type": "code",
      "source": [
        "data.keys()"
      ],
      "metadata": {
        "colab": {
          "base_uri": "https://localhost:8080/"
        },
        "id": "bI-Dt_yno_gE",
        "outputId": "f4e1c8ed-58d7-42a2-9d06-32c113250348"
      },
      "execution_count": null,
      "outputs": [
        {
          "output_type": "execute_result",
          "data": {
            "text/plain": [
              "Index(['tcp.len', 'tcp.flags', 'tcp.flags.ack', 'tcp.flags.syn',\n",
              "       'tcp.flags.fin', 'tcp.flags.urg', 'tcp.time_delta', 'mqtt.msgtype',\n",
              "       'mqtt.dupflag', 'mqtt.hdrflags', 'mqtt.len', 'mqtt.qos', 'mqtt.msgid',\n",
              "       'label'],\n",
              "      dtype='object')"
            ]
          },
          "metadata": {},
          "execution_count": 38
        }
      ]
    },
    {
      "cell_type": "markdown",
      "source": [
        "As unicas features que não são numéricas:\n",
        "\n",
        "1 - tcp flags\n",
        "\n",
        "2 - mqtt hdr flags\n",
        "\n",
        "Serão convertidos esses valores hexadecimais para binários"
      ],
      "metadata": {
        "id": "VGVE0imbpO2s"
      }
    },
    {
      "cell_type": "code",
      "source": [
        "# Removendo letras e vírgulas, mantendo apenas números e pontos\n",
        "data['tcp.flags'] = data['tcp.flags'].str.replace(r'[^0-9.]', '', regex=True)"
      ],
      "metadata": {
        "id": "XjOY386tpJkb"
      },
      "execution_count": null,
      "outputs": []
    },
    {
      "cell_type": "code",
      "source": [
        "# # header flags mqtt\n",
        "\n",
        "# def hex_to_binary(hex_value):\n",
        "#     \"\"\"Converte um valor hexadecimal (string) para uma string binária de 8 bits.\"\"\"\n",
        "#     if pd.isna(hex_value):  # Verifica se o valor é NaN\n",
        "#         return np.nan  # Mantém NaN\n",
        "#     return bin(int(str(hex_value), 16))[2:].zfill(8)  # Converte corretamente\n",
        "\n",
        "# # Aplicar a conversão na coluna\n",
        "# df['mqtt.hdrflags'] = df['mqtt.hdrflags'].apply(hex_to_binary)"
      ],
      "metadata": {
        "id": "EaDOTPHhrJ8F"
      },
      "execution_count": null,
      "outputs": []
    },
    {
      "cell_type": "code",
      "source": [
        "data = data.drop('mqtt.hdrflags', axis=1)"
      ],
      "metadata": {
        "id": "b-3sIuvA3dS3"
      },
      "execution_count": null,
      "outputs": []
    },
    {
      "cell_type": "code",
      "source": [
        "from sklearn.model_selection import train_test_split\n",
        "\n",
        "X = data.iloc[:,:-1]\n",
        "y= data['label']\n",
        "\n",
        "X = X.values\n",
        "\n",
        "X_train, X_test, y_train, y_test = train_test_split(X, y, test_size=0.33, shuffle=True, random_state=42)"
      ],
      "metadata": {
        "id": "r7kYjL24q70y"
      },
      "execution_count": null,
      "outputs": []
    },
    {
      "cell_type": "code",
      "source": [
        "from sklearn.neural_network import MLPClassifier\n",
        "\n",
        "import matplotlib.pyplot as plt\n",
        "\n",
        "mlp = MLPClassifier(hidden_layer_sizes=(\n",
        "        512, 256, 128, 64, 32, 16, 16, 32, 64, 128,\n",
        "        128, 64, 32, 16, 16, 32, 64, 128, 256, 512),\n",
        "                    activation='relu',\n",
        "                    solver='adam',\n",
        "                    learning_rate_init=0.000005,\n",
        "                    alpha=0.000001,\n",
        "                    max_iter=100,\n",
        "                    random_state=42,\n",
        "                    verbose=True,\n",
        "                    early_stopping=False,\n",
        "                    tol=0.0)\n",
        "\n",
        "mlp.fit(X_train, y_train)\n",
        "\n",
        "# funcao de perda\n",
        "plt.figure(figsize=(8, 5))\n",
        "plt.plot(mlp.loss_curve_, label=\"Loss Curve\", color='b')\n",
        "plt.xlabel(\"Épocas\")\n",
        "plt.ylabel(\"Função de Perda\")\n",
        "plt.title(\"Evolução da Função de Perda no MLPClassifier\")\n",
        "plt.legend()\n",
        "plt.grid(True)\n",
        "plt.show()"
      ],
      "metadata": {
        "colab": {
          "base_uri": "https://localhost:8080/",
          "height": 1000
        },
        "id": "6LIddmOi7QJI",
        "outputId": "1917070e-712d-4878-e6ff-72f7f68a4bef"
      },
      "execution_count": null,
      "outputs": [
        {
          "output_type": "stream",
          "name": "stdout",
          "text": [
            "Iteration 1, loss = 0.71388082\n",
            "Iteration 2, loss = 0.68755610\n",
            "Iteration 3, loss = 0.66363063\n",
            "Iteration 4, loss = 0.63630112\n",
            "Iteration 5, loss = 0.58151491\n",
            "Iteration 6, loss = 0.46865491\n",
            "Iteration 7, loss = 0.39982509\n",
            "Iteration 8, loss = 0.36746423\n",
            "Iteration 9, loss = 0.34547445\n",
            "Iteration 10, loss = 0.32763055\n",
            "Iteration 11, loss = 0.31165280\n",
            "Iteration 12, loss = 0.29741454\n",
            "Iteration 13, loss = 0.28424644\n",
            "Iteration 14, loss = 0.27165182\n",
            "Iteration 15, loss = 0.25966108\n",
            "Iteration 16, loss = 0.24794275\n",
            "Iteration 17, loss = 0.23622569\n",
            "Iteration 18, loss = 0.22431076\n",
            "Iteration 19, loss = 0.21214882\n",
            "Iteration 20, loss = 0.19954915\n",
            "Iteration 21, loss = 0.18633296\n",
            "Iteration 22, loss = 0.17343945\n",
            "Iteration 23, loss = 0.16063729\n",
            "Iteration 24, loss = 0.14851264\n",
            "Iteration 25, loss = 0.13671639\n",
            "Iteration 26, loss = 0.12554668\n",
            "Iteration 27, loss = 0.11559168\n",
            "Iteration 28, loss = 0.10681705\n",
            "Iteration 29, loss = 0.09916554\n",
            "Iteration 30, loss = 0.09223734\n",
            "Iteration 31, loss = 0.08626182\n",
            "Iteration 32, loss = 0.08127389\n",
            "Iteration 33, loss = 0.07684894\n",
            "Iteration 34, loss = 0.07309421\n",
            "Iteration 35, loss = 0.06979644\n",
            "Iteration 36, loss = 0.06686586\n",
            "Iteration 37, loss = 0.06450295\n",
            "Iteration 38, loss = 0.06234649\n",
            "Iteration 39, loss = 0.06013842\n",
            "Iteration 40, loss = 0.05816132\n",
            "Iteration 41, loss = 0.05642534\n",
            "Iteration 42, loss = 0.05466827\n",
            "Iteration 43, loss = 0.05336884\n",
            "Iteration 44, loss = 0.05190295\n",
            "Iteration 45, loss = 0.05087778\n",
            "Iteration 46, loss = 0.04965358\n",
            "Iteration 47, loss = 0.04905412\n",
            "Iteration 48, loss = 0.04750149\n",
            "Iteration 49, loss = 0.04661416\n",
            "Iteration 50, loss = 0.04569756\n",
            "Iteration 51, loss = 0.04467949\n",
            "Iteration 52, loss = 0.04371702\n",
            "Iteration 53, loss = 0.04262779\n",
            "Iteration 54, loss = 0.04154917\n",
            "Iteration 55, loss = 0.04021256\n",
            "Iteration 56, loss = 0.03900376\n",
            "Iteration 57, loss = 0.04533463\n",
            "Iteration 58, loss = 0.03469939\n",
            "Iteration 59, loss = 0.03187888\n",
            "Iteration 60, loss = 0.02991632\n",
            "Iteration 61, loss = 0.02820764\n",
            "Iteration 62, loss = 0.02665890\n",
            "Iteration 63, loss = 0.02537182\n",
            "Iteration 64, loss = 0.02445087\n",
            "Iteration 65, loss = 0.02353050\n",
            "Iteration 66, loss = 0.02290635\n",
            "Iteration 67, loss = 0.02231160\n",
            "Iteration 68, loss = 0.02183960\n",
            "Iteration 69, loss = 0.02147187\n",
            "Iteration 70, loss = 0.02109971\n",
            "Iteration 71, loss = 0.02076270\n",
            "Iteration 72, loss = 0.02047564\n",
            "Iteration 73, loss = 0.02017385\n",
            "Iteration 74, loss = 0.02004435\n",
            "Iteration 75, loss = 0.01965687\n",
            "Iteration 76, loss = 0.01939950\n",
            "Iteration 77, loss = 0.01914798\n",
            "Iteration 78, loss = 0.01886748\n",
            "Iteration 79, loss = 0.01864788\n",
            "Iteration 80, loss = 0.01836735\n",
            "Iteration 81, loss = 0.01817762\n",
            "Iteration 82, loss = 0.02132884\n",
            "Iteration 83, loss = 0.02531799\n",
            "Iteration 84, loss = 0.01806007\n",
            "Iteration 85, loss = 0.01857547\n",
            "Iteration 86, loss = 0.01712627\n",
            "Iteration 87, loss = 0.02054403\n",
            "Iteration 88, loss = 0.01824303\n",
            "Iteration 89, loss = 0.01657111\n",
            "Iteration 90, loss = 0.01633528\n",
            "Iteration 91, loss = 0.01613094\n",
            "Iteration 92, loss = 0.01594206\n",
            "Iteration 93, loss = 0.01568477\n",
            "Iteration 94, loss = 0.01548832\n",
            "Iteration 95, loss = 0.01526919\n",
            "Iteration 96, loss = 0.01508112\n",
            "Iteration 97, loss = 0.01489675\n",
            "Iteration 98, loss = 0.01470498\n",
            "Iteration 99, loss = 0.01453388\n",
            "Iteration 100, loss = 0.01438532\n"
          ]
        },
        {
          "output_type": "stream",
          "name": "stderr",
          "text": [
            "/usr/local/lib/python3.11/dist-packages/sklearn/neural_network/_multilayer_perceptron.py:691: ConvergenceWarning: Stochastic Optimizer: Maximum iterations (100) reached and the optimization hasn't converged yet.\n",
            "  warnings.warn(\n"
          ]
        },
        {
          "output_type": "display_data",
          "data": {
            "text/plain": [
              "<Figure size 800x500 with 1 Axes>"
            ],
            "image/png": "[encoded data removed]"
          },
          "metadata": {}
        }
      ]
    },
    {
      "cell_type": "code",
      "source": [
        "from sklearn.metrics import classification_report, confusion_matrix"
      ],
      "metadata": {
        "id": "8P9lFQGiZo1S"
      },
      "execution_count": null,
      "outputs": []
    },
    {
      "cell_type": "code",
      "source": [
        "# tabela de metricas\n",
        "y_pred = mlp.predict(X_test)\n",
        "\n",
        "print(\"\\n📊 Tabela de Métricas:\\n\")\n",
        "print(classification_report(y_test, y_pred, digits=4))"
      ],
      "metadata": {
        "colab": {
          "base_uri": "https://localhost:8080/"
        },
        "id": "kOZj_EONZjGe",
        "outputId": "1da4d017-0feb-4504-d13a-66982a10deea"
      },
      "execution_count": null,
      "outputs": [
        {
          "output_type": "stream",
          "name": "stdout",
          "text": [
            "\n",
            "📊 Tabela de Métricas:\n",
            "\n",
            "              precision    recall  f1-score   support\n",
            "\n",
            "           0     0.9959    0.9978    0.9968      4106\n",
            "           1     0.9978    0.9959    0.9968      4130\n",
            "\n",
            "    accuracy                         0.9968      8236\n",
            "   macro avg     0.9968    0.9968    0.9968      8236\n",
            "weighted avg     0.9968    0.9968    0.9968      8236\n",
            "\n"
          ]
        }
      ]
    },
    {
      "cell_type": "code",
      "source": [
        "import seaborn as sns\n",
        "\n",
        "conf_matrix = confusion_matrix(y_test, y_pred)\n",
        "\n",
        "plt.figure(figsize=(6, 5))\n",
        "sns.heatmap(conf_matrix, annot=True, fmt=\"d\", cmap=\"Blues\", xticklabels=[\"Classe 0\", \"Classe 1\"], yticklabels=[\"Classe 0\", \"Classe 1\"])\n",
        "plt.xlabel(\"Predito\")\n",
        "plt.ylabel(\"Real\")\n",
        "plt.title(\"Matriz de Confusão do MLPClassifier\")\n",
        "plt.show()"
      ],
      "metadata": {
        "colab": {
          "base_uri": "https://localhost:8080/",
          "height": 487
        },
        "id": "5XD1_l6kZq8o",
        "outputId": "9b2d58ea-54e2-411e-ad7c-bad296ccda4f"
      },
      "execution_count": null,
      "outputs": [
        {
          "output_type": "display_data",
          "data": {
            "text/plain": [
              "<Figure size 600x500 with 2 Axes>"
            ],
            "image/png": "[encoded data removed]"
          },
          "metadata": {}
        }
      ]
    },
    {
      "cell_type": "code",
      "source": [
        "# salvamento do modelo\n",
        "import pickle\n",
        "with open('mlp_model.pkl', 'wb') as file:\n",
        "   pickle.dump(mlp, file)"
      ],
      "metadata": {
        "id": "y610C1lhFZfi"
      },
      "execution_count": null,
      "outputs": []
    }
  ],
  "metadata": {
    "colab": {
      "provenance": []
    },
    "kernelspec": {
      "display_name": "Python 3",
      "name": "python3"
    },
    "language_info": {
      "name": "python"
    }
  },
  "nbformat": 4,
  "nbformat_minor": 0
}